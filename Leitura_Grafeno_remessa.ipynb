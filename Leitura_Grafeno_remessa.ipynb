{
 "cells": [
  {
   "cell_type": "code",
   "execution_count": null,
   "id": "b7132e2e",
   "metadata": {},
   "outputs": [
    {
     "ename": "NameError",
     "evalue": "name 'cnab' is not defined",
     "output_type": "error",
     "traceback": [
      "\u001b[1;31m---------------------------------------------------------------------------\u001b[0m",
      "\u001b[1;31mNameError\u001b[0m                                 Traceback (most recent call last)",
      "Cell \u001b[1;32mIn[1], line 21\u001b[0m\n\u001b[0;32m     18\u001b[0m     cnab \u001b[38;5;241m=\u001b[39m os\u001b[38;5;241m.\u001b[39mpath\u001b[38;5;241m.\u001b[39mjoin(pasta, caminho_arquivo_rem)\n\u001b[0;32m     20\u001b[0m \u001b[38;5;66;03m# Defina o caminho para o arquivo CNAB do Santander\u001b[39;00m\n\u001b[1;32m---> 21\u001b[0m arquivo_cnab \u001b[38;5;241m=\u001b[39m  cnab\n\u001b[0;32m     23\u001b[0m \u001b[38;5;66;03m# Crie uma lista para armazenar os registros lidos\u001b[39;00m\n\u001b[0;32m     24\u001b[0m cabecario \u001b[38;5;241m=\u001b[39m []\n",
      "\u001b[1;31mNameError\u001b[0m: name 'cnab' is not defined"
     ]
    }
   ],
   "source": [
    "#ler o corpo da Remessa\n",
    "\n",
    "import os\n",
    "pasta =  'C:/Users/elean/Desktop/BANCOS/grafeno'\n",
    "\n",
    "\n",
    "# Liste todos os arquivos na pasta\n",
    "arquivos = os.listdir(pasta)\n",
    "\n",
    "# Filtrar apenas os arquivos que têm a extensão .REM\n",
    "arquivos_rem = [arquivo for arquivo in arquivos if arquivo.endswith('.REM')]\n",
    "\n",
    "# Encontre o arquivo REM mais recente com base na data de modificação\n",
    "if arquivos_rem:\n",
    "    caminho_arquivo_rem = max(arquivos_rem, key=lambda arquivo: os.path.getmtime(os.path.join(pasta, arquivo)))\n",
    "    \n",
    "    # Crie o caminho completo para o arquivo REM mais recente\n",
    "    cnab = os.path.join(pasta, caminho_arquivo_rem)\n",
    "\n",
    "# Defina o caminho para o arquivo CNAB do Santander\n",
    "arquivo_cnab =  cnab\n",
    "\n",
    "# Crie uma lista para armazenar os registros lidos\n",
    "cabecario = []\n",
    "\n",
    "with open(arquivo_cnab, 'r') as arquivo:\n",
    "    # Leia cada linha do arquivo\n",
    "    linhas = arquivo.readlines()\n",
    "\n",
    "    for linha in linhas[1:]:      # Faça algo com cada linha do arquivo, por exemplo, imprima-a\n",
    "                campo1 = linha[0:1]\n",
    "                campo2 = linha[20:37]\n",
    "                campo3 = linha[37:62]\n",
    "                campo4 = linha[62:65]    \n",
    "                campo5 = linha[65:66]        \n",
    "                campo6 = linha[66:70]        \n",
    "                campo7 = linha[70:81]        \n",
    "                campo8 = linha[81:82]        \n",
    "                campo9 = linha[82:92]        \n",
    "                campo10 = linha[106:108]        \n",
    "                campo11 = linha[108:110]  \n",
    "                campo12 = linha[110:120]        \n",
    "                campo13 = linha[120:126]        \n",
    "                campo14 = linha[126:139]        \n",
    "                campo15 = linha[139:142]        \n",
    "                campo16 = linha[142:147]        \n",
    "                campo17 = linha[149:150]        \n",
    "                campo18 = linha[150:156]        \n",
    "                campo19 = linha[160:173]        \n",
    "                campo20 = linha[173:179]        \n",
    "                campo21 = linha[179:192]        \n",
    "                campo22 = linha[192:205]   \n",
    "                campo23 = linha[205:218]        \n",
    "                campo24 = linha[220:234]        \n",
    "                campo25 = linha[234:274]        \n",
    "                campo26 = linha[274:314]        \n",
    "                campo27 = linha[394:400]        \n",
    "\n",
    "                registro = {\n",
    "                'Identificação do registro': campo1,\n",
    "                'Identificação da empresa beneficiária no banco': campo2,   \n",
    "                 'Número de controle do participante': campo3,     \n",
    "                  'Código do banco a ser debitado na câmara de compensação': campo4,     \n",
    "                 'Campo de multa': campo5,   \n",
    "                 'Percentual multa': campo6,             \n",
    "                 'Identificação do título no banco': campo7,             \n",
    "                 'Dígito de auto conferência do número bancário': campo8,             \n",
    "                 'Desconto': campo9,             \n",
    "                 'Quantidade de pagamentos possíveis': campo10,             \n",
    "                 'Identificação da ocorrência': campo11,             \n",
    "                 'CODIGO DO DOC': campo12,             \n",
    "                 'Data do vencimento': campo13,             \n",
    "                  'Valor': campo14,             \n",
    "                 'Banco': campo15,             \n",
    "                 'Agência depositária': campo16,             \n",
    "                 'Identificação': campo17,             \n",
    "                 'Data da emissão do título': campo18,             \n",
    "                 'Valor a ser cobrado por dia de atraso': campo19,             \n",
    "                 'desconto ate': campo20,            \n",
    "                 'Valor do desconto': campo21,             \n",
    "                 'Valor do IOF': campo22,             \n",
    "                 'Valor do abatimento a ser concedido ou cancelado': campo23,             \n",
    "                 'cnpj pagador': campo24,             \n",
    "                 'Cliente': campo25,             \n",
    "                 'endereco': campo26,             \n",
    "                 'Número sequencial do registro': campo27,             \n",
    "\n",
    "\n",
    "\n",
    "\n",
    "\n",
    " }\n",
    "        \n",
    "                cabecario.append(registro)\n",
    "\n",
    "for registro in cabecario:\n",
    "    print(registro)\n"
   ]
  },
  {
   "cell_type": "code",
   "execution_count": null,
   "id": "2fd0084b",
   "metadata": {},
   "outputs": [],
   "source": [
    "nome_arquivo = os.path.basename(arquivo_cnab)\n",
    "nome_arquivo"
   ]
  },
  {
   "cell_type": "code",
   "execution_count": null,
   "id": "3734155d",
   "metadata": {},
   "outputs": [],
   "source": [
    "#ler o corpo da Remessa\n",
    "import pandas as pd\n",
    "import os\n",
    "\n"
   ]
  },
  {
   "cell_type": "code",
   "execution_count": null,
   "id": "88a83d62",
   "metadata": {},
   "outputs": [],
   "source": [
    "dados = pd.DataFrame.from_dict(cabecario)"
   ]
  },
  {
   "cell_type": "code",
   "execution_count": null,
   "id": "be0c58f5",
   "metadata": {},
   "outputs": [],
   "source": [
    "dados = dados.drop(dados.index[-1])\n"
   ]
  },
  {
   "cell_type": "code",
   "execution_count": null,
   "id": "38923acb",
   "metadata": {},
   "outputs": [],
   "source": [
    "dados['Nome do arquivo'] = nome_arquivo\n",
    "dados['Nome do arquivo'].fillna(method='ffill', inplace=True)"
   ]
  },
  {
   "cell_type": "code",
   "execution_count": null,
   "id": "976655e3",
   "metadata": {},
   "outputs": [],
   "source": [
    "dados['CODIGO DO DOC'] = dados['CODIGO DO DOC'].str.strip()\n",
    "\n",
    "dados['CODIGO DO DOC'] = dados['CODIGO DO DOC'].str.replace(' ', '')"
   ]
  },
  {
   "cell_type": "code",
   "execution_count": null,
   "id": "3740c132",
   "metadata": {},
   "outputs": [],
   "source": [
    "dados['Identificação da ocorrência'] = dados['Identificação da ocorrência'].str.strip()\n",
    "\n",
    "dados['Identificação da ocorrência'] = dados['Identificação da ocorrência'].str.replace(' ', '')"
   ]
  },
  {
   "cell_type": "code",
   "execution_count": null,
   "id": "3c843be3",
   "metadata": {},
   "outputs": [],
   "source": [
    "dados['Desconto'] =dados['Desconto'].str.lstrip('0')\n",
    "dados['Desconto'] = dados['Desconto'].apply(lambda x: f'{str(x)[:-2]},{str(x)[-2:]}')\n",
    "dados['Valor'] =dados['Valor'].str.lstrip('0')\n",
    "dados['Valor'] = dados['Valor'].apply(lambda x: f'{str(x)[:-2]},{str(x)[-2:]}')\n",
    "dados['Valor do desconto'] =dados['Valor do desconto'].str.lstrip('0')\n",
    "dados['Valor do desconto'] = dados['Valor do desconto'].apply(lambda x: f'{str(x)[:-2]},{str(x)[-2:]}')\n"
   ]
  },
  {
   "cell_type": "code",
   "execution_count": null,
   "id": "33542508",
   "metadata": {},
   "outputs": [],
   "source": [
    "dados.loc[dados['Identificação da ocorrência'] == '01', 'Identificação da ocorrência'] = \"Enviado\"\n",
    "dados.loc[dados['Identificação da ocorrência'] == '02', 'Identificação da ocorrência'] = \"Pedido de baixa\"\n",
    "dados.loc[dados['Identificação da ocorrência'] == '04', 'Identificação da ocorrência'] = \"CONCESSÃO DE ABATIMENTO\"\n",
    "dados.loc[dados['Identificação da ocorrência'] == '06', 'Identificação da ocorrência'] = \"Alteração de vencimento\"\n",
    "dados.loc[dados['Identificação da ocorrência'] == '07', 'Identificação da ocorrência'] = \"Atualização/Inclusão do Número de Controle do Participante\"\n",
    "dados.loc[dados['Identificação da ocorrência'] == '08', 'Identificação da ocorrência'] = \"Atualização Número de Documento Seu Número)\"\n",
    "dados.loc[dados['Identificação da ocorrência'] == '09', 'Identificação da ocorrência'] = \"Instrução para protesto\"\n",
    "dados.loc[dados['Identificação da ocorrência'] == '10', 'Identificação da ocorrência'] = \"Atualização/Inclusão da Chave da NF\"\n",
    "dados.loc[dados['Identificação da ocorrência'] == '19', 'Identificação da ocorrência'] = \"Desistência/Cancelamento de protesto\"\n",
    "dados.loc[dados['Identificação da ocorrência'] == '23', 'Identificação da ocorrência'] = \"Instrução para Grafeno Titularidades\"\n",
    "\n"
   ]
  },
  {
   "cell_type": "code",
   "execution_count": null,
   "id": "ca35fe76",
   "metadata": {},
   "outputs": [],
   "source": [
    "dados['Data do vencimento'] = dados['Data do vencimento'].astype(str).str.zfill(6)\n",
    "dados['Data do vencimento'] = dados['Data do vencimento'].apply(lambda x: f\"{x[:2]}/{x[2:4]}/{x[4:]}\")\n",
    "dados['Data da emissão do título'] = dados['Data da emissão do título'].astype(str).str.zfill(6)\n",
    "dados['Data da emissão do título'] = dados['Data da emissão do título'].apply(lambda x: f\"{x[:2]}/{x[2:4]}/{x[4:]}\")\n",
    "dados['desconto ate'] = dados['desconto ate'].astype(str).str.zfill(6)\n",
    "dados['desconto ate'] = dados['desconto ate'].apply(lambda x: f\"{x[:2]}/{x[2:4]}/{x[4:]}\")\n"
   ]
  },
  {
   "cell_type": "code",
   "execution_count": null,
   "id": "773beafb",
   "metadata": {},
   "outputs": [],
   "source": [
    "df_dados = dados"
   ]
  },
  {
   "cell_type": "markdown",
   "id": "e226221c",
   "metadata": {},
   "source": [
    "# Cabeçalho"
   ]
  },
  {
   "cell_type": "code",
   "execution_count": null,
   "id": "7a9c7f06",
   "metadata": {},
   "outputs": [],
   "source": [
    "\n",
    "\n",
    "# Filtrar apenas os arquivos que têm a extensão .REM\n",
    "arquivos_rem = [arquivo for arquivo in arquivos if arquivo.endswith('.REM')]\n",
    "\n",
    "# Encontre o arquivo REM mais recente com base na data de modificação\n",
    "if arquivos_rem:\n",
    "    caminho_arquivo_rem = max(arquivos_rem, key=lambda arquivo: os.path.getmtime(os.path.join(pasta, arquivo)))\n",
    "    \n",
    "    # Crie o caminho completo para o arquivo REM mais recente\n",
    "    cnab = os.path.join(pasta, caminho_arquivo_rem)\n",
    "\n",
    "# Defina o caminho para o arquivo CNAB do Santander\n",
    "arquivo_cnab =  cnab\n",
    "\n",
    "# Crie uma lista para armazenar os registros lidos\n",
    "cabecario = []\n",
    "\n",
    "with open(arquivo_cnab, 'r') as arquivo:\n",
    "    # Leia cada linha do arquivo\n",
    "    linhas = arquivo.readlines()\n",
    "\n",
    "    for linha in linhas[0:1]:    # Faça algo com cada linha do arquivo, por exemplo, imprima-a\n",
    "        campo1 = linha[0:1]\n",
    "        campo2 = linha[1:2]\n",
    "        campo3 = linha[2:9]        \n",
    "        campo4 = linha[9:11]    \n",
    "        campo5 = linha[46:76]   \n",
    "        campo6 = linha[76:79] \n",
    "        campo7 = linha[79:94] \n",
    "        campo8 = linha[94:100]  \n",
    "        campo9 = linha[108:110] \n",
    "        campo10 = linha[110:117] \n",
    "        campo11 = linha[394:400]            \n",
    "\n",
    "\n",
    "        registro = {\n",
    "            'TIPO DE REGISTRO HEADER cabeçalho': campo1,\n",
    "            'Identificação do arquivo remessa cabeçalho': campo2,\n",
    "            'Literal remessa cabeçalho': campo3,\n",
    "             'Código do serviço cabeçalho': campo4,\n",
    "              'Nome da empresa cabeçalho': campo5,\n",
    "             'Número do Banco cabeçalho': campo6,\n",
    "             'Nome do banco cabeçalho': campo7,\n",
    "             'Data de gravação do arquivo cabeçalho': campo8,      \n",
    "             'Identificação do sistema cabeçalho': campo9,     \n",
    "             'Número sequencial de remessa cabeçalho': campo10,            \n",
    "             'Número sequencial do registro cabeçalho': campo11,        \n",
    "\n",
    " }\n",
    "        \n",
    "        cabecario.append(registro)\n",
    "\n",
    "for registro in cabecario:\n",
    "    print(registro)"
   ]
  },
  {
   "cell_type": "code",
   "execution_count": null,
   "id": "7aa20ea2",
   "metadata": {},
   "outputs": [],
   "source": [
    "df_cabecario = pd.DataFrame.from_dict(cabecario)"
   ]
  },
  {
   "cell_type": "code",
   "execution_count": null,
   "id": "649c7e71",
   "metadata": {},
   "outputs": [],
   "source": [
    "df_resultado = pd.concat([df_dados, df_cabecario], axis=1)"
   ]
  },
  {
   "cell_type": "code",
   "execution_count": null,
   "id": "890fe430",
   "metadata": {},
   "outputs": [],
   "source": [
    "df_resultado.replace('None', pd.NA, inplace=True)\n",
    "\n",
    "# Preencher os valores nulos na coluna 'Código de Serviço' com os valores da linha anterior\n",
    "df_resultado['TIPO DE REGISTRO HEADER cabeçalho'].fillna(method='ffill', inplace=True)\n",
    "df_resultado['Identificação do arquivo remessa cabeçalho'].fillna(method='ffill', inplace=True)\n",
    "df_resultado['Literal remessa cabeçalho'].fillna(method='ffill', inplace=True)\n",
    "df_resultado['Código do serviço cabeçalho'].fillna(method='ffill', inplace=True)\n",
    "df_resultado['Nome da empresa cabeçalho'].fillna(method='ffill', inplace=True)\n",
    "df_resultado['Número do Banco cabeçalho'].fillna(method='ffill', inplace=True)\n",
    "df_resultado['Nome do banco cabeçalho'].fillna(method='ffill', inplace=True)\n",
    "df_resultado['Data de gravação do arquivo cabeçalho'].fillna(method='ffill', inplace=True)\n",
    "df_resultado['Identificação do sistema cabeçalho'].fillna(method='ffill', inplace=True)\n",
    "df_resultado['Número sequencial de remessa cabeçalho'].fillna(method='ffill', inplace=True)\n",
    "df_resultado['Número sequencial do registro cabeçalho'].fillna(method='ffill', inplace=True)\n"
   ]
  },
  {
   "cell_type": "code",
   "execution_count": null,
   "id": "050acd3d",
   "metadata": {},
   "outputs": [],
   "source": [
    "df_resultado = df_resultado.replace({pd.NA: None, pd.NaT: None})"
   ]
  },
  {
   "cell_type": "markdown",
   "id": "6038fe70",
   "metadata": {},
   "source": [
    "# Trailler"
   ]
  },
  {
   "cell_type": "code",
   "execution_count": null,
   "id": "0f7f7624",
   "metadata": {},
   "outputs": [],
   "source": [
    "\n",
    "\n",
    "# Filtrar apenas os arquivos que têm a extensão .REM\n",
    "arquivos_rem = [arquivo for arquivo in arquivos if arquivo.endswith('.REM')]\n",
    "\n",
    "# Encontre o arquivo REM mais recente com base na data de modificação\n",
    "if arquivos_rem:\n",
    "    caminho_arquivo_rem = max(arquivos_rem, key=lambda arquivo: os.path.getmtime(os.path.join(pasta, arquivo)))\n",
    "    \n",
    "    # Crie o caminho completo para o arquivo REM mais recente\n",
    "    cnab = os.path.join(pasta, caminho_arquivo_rem)\n",
    "\n",
    "# Defina o caminho para o arquivo CNAB do Santander\n",
    "arquivo_cnab =  cnab\n",
    "\n",
    "# Crie uma lista para armazenar os registros lidos\n",
    "cabecario = []\n",
    "\n",
    "with open(arquivo_cnab, 'r') as arquivo:\n",
    "    # Leia cada linha do arquivo\n",
    "    linhas = arquivo.readlines()\n",
    "\n",
    "    for linha in linhas[-1:]:    # Faça algo com cada linha do arquivo, por exemplo, imprima-a\n",
    "        campo1 = linha[0:1]\n",
    "        campo2 = linha[394:400]\n",
    "\n",
    "        \n",
    "\n",
    "\n",
    "        registro = {\n",
    "            'Identificação do registro trailer': campo1,\n",
    "             'Número sequencial de registro trailer': campo2,\n",
    "            \n",
    "\n",
    "            \n",
    "            \n",
    "            \n",
    "            \n",
    "\n",
    " }\n",
    "        \n",
    "        cabecario.append(registro)\n",
    "\n",
    "for registro in cabecario:\n",
    "    print(registro)"
   ]
  },
  {
   "cell_type": "code",
   "execution_count": null,
   "id": "4b9bf0ba",
   "metadata": {},
   "outputs": [],
   "source": [
    "trailer = pd.DataFrame.from_dict(cabecario)\n",
    "df_resultado = pd.concat([df_resultado, trailer], axis=1)\n",
    "df_resultado = df_resultado.replace({pd.NA: None, pd.NaT: None})"
   ]
  },
  {
   "cell_type": "code",
   "execution_count": null,
   "id": "89f755b5",
   "metadata": {},
   "outputs": [],
   "source": [
    "\n",
    "df_resultado['Identificação do registro trailer'].fillna(method='ffill', inplace=True)\n",
    "df_resultado['Número sequencial de registro trailer'].fillna(method='ffill', inplace=True)\n",
    "df_resultado = df_resultado.reset_index()"
   ]
  },
  {
   "cell_type": "code",
   "execution_count": null,
   "id": "fd8e4e17",
   "metadata": {},
   "outputs": [],
   "source": [
    "df_resultado['Data de gravação do arquivo cabeçalho']= pd.to_datetime(df_resultado['Data de gravação do arquivo cabeçalho'])\n",
    "df_resultado['Data de gravação do arquivo cabeçalho'] = df_resultado['Data de gravação do arquivo cabeçalho'].dt.strftime('%Y-%d-%m')"
   ]
  },
  {
   "cell_type": "code",
   "execution_count": null,
   "id": "d49364d5",
   "metadata": {},
   "outputs": [],
   "source": [
    "df_resultado = df_resultado.drop(columns=['index'])\n",
    "\n",
    "\n",
    "\n"
   ]
  },
  {
   "cell_type": "code",
   "execution_count": null,
   "id": "1abee039",
   "metadata": {},
   "outputs": [],
   "source": [
    "df_resultado['Data de gravação do arquivo cabeçalho']"
   ]
  },
  {
   "cell_type": "code",
   "execution_count": null,
   "id": "77f04b57",
   "metadata": {},
   "outputs": [],
   "source": [
    "df_resultado['Data de gravação do arquivo cabeçalho'] = pd.to_datetime(df_resultado['Data de gravação do arquivo cabeçalho'], format='%Y-%d-%m')\n",
    "\n",
    "# Trocando o dia pelo mês\n",
    "# df_resultado['Data de gravação do arquivo cabeçalho'] = df_resultado['Data de gravação do arquivo cabeçalho'].apply(lambda x: pd.Timestamp(year=x.year, month=x.day, day=x.month))\n"
   ]
  },
  {
   "cell_type": "code",
   "execution_count": null,
   "id": "daa6553f",
   "metadata": {},
   "outputs": [],
   "source": [
    "df_resultado['Data de gravação do arquivo cabeçalho'] =df_resultado['Data de gravação do arquivo cabeçalho'].astype(str)"
   ]
  },
  {
   "cell_type": "code",
   "execution_count": null,
   "id": "63f0864f",
   "metadata": {},
   "outputs": [],
   "source": [
    "df_resultado"
   ]
  },
  {
   "cell_type": "code",
   "execution_count": null,
   "id": "00e5bfb8",
   "metadata": {},
   "outputs": [],
   "source": [
    "# df_resultado.to_excel(r'C:\\Users\\elean\\Desktop\\bancodedados\\testegarfeno.xlsx')"
   ]
  },
  {
   "cell_type": "code",
   "execution_count": null,
   "id": "3132c9d1",
   "metadata": {},
   "outputs": [],
   "source": [
    "import mysql.connector\n",
    "import pandas as pd\n",
    "\n",
    "# Seus dados de conexão\n",
    "mydb = mysql.connector.connect(\n",
    "    host=os.getenv('DB_HOST'),\n",
    "    user=os.getenv('DB_USER'),\n",
    "    password=os.getenv('DB_PASSWORD'),\n",
    "    database=os.getenv('DB_NAME'),\n",
    ")\n",
    "\n",
    "\n",
    "# Função para inserir dados na tabela\n",
    "def inserir_dados(cursor, tabela, df_resultado):\n",
    "    for index, row in df_resultado.iterrows():\n",
    "        placeholders = ', '.join(['%s'] * len(row))\n",
    "        columns = ', '.join(f\"`{col}`\" for col in row.keys())\n",
    "        sql = f\"INSERT INTO {tabela} ({columns}) VALUES ({placeholders})\"\n",
    "        cursor.execute(sql, tuple(row))\n",
    "\n",
    "# Cria um cursor para executar consultas\n",
    "cursor = mydb.cursor()\n",
    "\n",
    "# Nome da tabela no banco de dados\n",
    "nome_tabela = 'remessa_grafeno'\n",
    "\n",
    "# Insere os dados na tabela\n",
    "inserir_dados(cursor, nome_tabela, df_resultado)\n",
    "\n",
    "# Commit para salvar as alterações\n",
    "mydb.commit()\n",
    "\n",
    "# Fecha o cursor e a conexão\n",
    "cursor.close()\n",
    "mydb.close()\n",
    "\n",
    "print(\"remessa salva no banco de dados!\")"
   ]
  },
  {
   "cell_type": "code",
   "execution_count": null,
   "id": "19f174f0",
   "metadata": {},
   "outputs": [],
   "source": [
    "import shutil\n",
    "# Pasta de destino\n",
    "pasta_destino = 'C:/Users/elean/Desktop/BANCOS/grafeno/lido/'\n",
    "\n",
    "# Movendo o arquivo\n",
    "shutil.move(arquivo_cnab, pasta_destino)\n",
    "print(f'O arquivo foi movido para {pasta_destino}')\n"
   ]
  },
  {
   "cell_type": "code",
   "execution_count": null,
   "id": "0a0bae40",
   "metadata": {},
   "outputs": [],
   "source": []
  }
 ],
 "metadata": {
  "kernelspec": {
   "display_name": "Python 3 (ipykernel)",
   "language": "python",
   "name": "python3"
  },
  "language_info": {
   "codemirror_mode": {
    "name": "ipython",
    "version": 3
   },
   "file_extension": ".py",
   "mimetype": "text/x-python",
   "name": "python",
   "nbconvert_exporter": "python",
   "pygments_lexer": "ipython3",
   "version": "3.11.5"
  }
 },
 "nbformat": 4,
 "nbformat_minor": 5
}
