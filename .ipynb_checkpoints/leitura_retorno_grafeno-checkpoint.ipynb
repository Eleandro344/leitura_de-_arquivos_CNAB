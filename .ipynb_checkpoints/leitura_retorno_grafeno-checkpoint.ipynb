{
 "cells": [
  {
   "cell_type": "code",
   "execution_count": 1,
   "id": "63e59fab",
   "metadata": {},
   "outputs": [
    {
     "ename": "NameError",
     "evalue": "name 'cnab' is not defined",
     "output_type": "error",
     "traceback": [
      "\u001b[1;31m---------------------------------------------------------------------------\u001b[0m",
      "\u001b[1;31mNameError\u001b[0m                                 Traceback (most recent call last)",
      "Cell \u001b[1;32mIn[1], line 21\u001b[0m\n\u001b[0;32m     18\u001b[0m     cnab \u001b[38;5;241m=\u001b[39m os\u001b[38;5;241m.\u001b[39mpath\u001b[38;5;241m.\u001b[39mjoin(pasta, caminho_arquivo_rem)\n\u001b[0;32m     20\u001b[0m \u001b[38;5;66;03m# Defina o caminho para o arquivo CNAB do Santander\u001b[39;00m\n\u001b[1;32m---> 21\u001b[0m arquivo_cnab \u001b[38;5;241m=\u001b[39m  cnab\n\u001b[0;32m     23\u001b[0m \u001b[38;5;66;03m# Crie uma lista para armazenar os registros lidos\u001b[39;00m\n\u001b[0;32m     24\u001b[0m cabecario \u001b[38;5;241m=\u001b[39m []\n",
      "\u001b[1;31mNameError\u001b[0m: name 'cnab' is not defined"
     ]
    }
   ],
   "source": [
    "#ler o corpo da Remessa\n",
    "\n",
    "import os\n",
    "pasta =  r'C:\\Users\\elean\\Desktop\\RETORNOS\\grafeno\\Processados\\2025'\n",
    "\n",
    "\n",
    "# Liste todos os arquivos na pasta\n",
    "arquivos = os.listdir(pasta)\n",
    "\n",
    "# Filtrar apenas os arquivos que têm a extensão .REM\n",
    "arquivos_rem = [arquivo for arquivo in arquivos if arquivo.endswith('.ret')]\n",
    "\n",
    "# Encontre o arquivo REM mais recente com base na data de modificação\n",
    "if arquivos_rem:\n",
    "    caminho_arquivo_rem = max(arquivos_rem, key=lambda arquivo: os.path.getmtime(os.path.join(pasta, arquivo)))\n",
    "    \n",
    "    # Crie o caminho completo para o arquivo REM mais recente\n",
    "    cnab = os.path.join(pasta, caminho_arquivo_rem)\n",
    "\n",
    "# Defina o caminho para o arquivo CNAB do Santander\n",
    "arquivo_cnab =  cnab\n",
    "\n",
    "# Crie uma lista para armazenar os registros lidos\n",
    "cabecario = []\n",
    "\n",
    "with open(arquivo_cnab, 'r') as arquivo:\n",
    "    # Leia cada linha do arquivo\n",
    "    linhas = arquivo.readlines()\n",
    "\n",
    "    for linha in linhas[1:]:      # Faça algo com cada linha do arquivo, por exemplo, imprima-a\n",
    "                campo1 = linha[0:1]\n",
    "                campo2 = linha[3:17]\n",
    "                campo3 = linha[20:37]\n",
    "                campo4 = linha[37:62]    \n",
    "                campo5 = linha[70:82]        \n",
    "                campo6 = linha[108:110]        \n",
    "                campo7 = linha[110:116]        \n",
    "                campo8 = linha[116:126]        \n",
    "                campo9 = linha[126:146]        \n",
    "                campo10 = linha[146:152]        \n",
    "                campo11 = linha[152:165]  \n",
    "                campo12 = linha[165:168]        \n",
    "                campo13 = linha[168:173]        \n",
    "                campo14 = linha[175:188]        \n",
    "                campo15 = linha[201:214]        \n",
    "                campo16 = linha[221:240]        \n",
    "                campo17 = linha[253:266]        \n",
    "                campo18 = linha[266:279]        \n",
    "                campo19 = linha[279:292]        \n",
    "                campo20 = linha[295:301]        \n",
    "                campo21 = linha[301:304]        \n",
    "                campo22 = linha[318:328]   \n",
    "                campo23 = linha[394:400]        \n",
    "      \n",
    "\n",
    "                registro = {\n",
    "                'Identificação do registro': campo1,\n",
    "               'Número de inscrição da empresa': campo2,   \n",
    "                'Identificação da empresa beneficiária no banco': campo3,     \n",
    "                  'Número de controle do participante': campo4,     \n",
    "                 'Identificação do título no banco': campo5,   \n",
    "                 'Identificação da ocorrência': campo6,             \n",
    "                 'Data do ocorrência no banco': campo7,             \n",
    "                 'CODIGO DO DOC': campo8,             \n",
    "                 'Identificação do título no banco': campo9,             \n",
    "                 'Data de vencimento do título': campo10,             \n",
    "                 'Valor do título': campo11,             \n",
    "                 'Banco cobrador': campo12,             \n",
    "                 'Agência Cobrança': campo13,             \n",
    "                 'Despesas de cobrança': campo14,             \n",
    "                 'Juros da operação em atraso': campo15,             \n",
    "                 'Valor abatimento concedido': campo16,             \n",
    "                    'Valor pago': campo17,             \n",
    "                 'Juros de mora': campo18,             \n",
    "                 'Outros créditos': campo19,             \n",
    "                 'Data do crédito': campo20,            \n",
    "                 'Origem do pagamento': campo21,             \n",
    "                 'Motivos de rejeição': campo22,             \n",
    "                 'Número sequencial de registro': campo23,             \n",
    "\n",
    "\n",
    "\n",
    "\n",
    " }\n",
    "        \n",
    "                cabecario.append(registro)\n",
    "\n",
    "for registro in cabecario:\n",
    "    print(registro)\n"
   ]
  },
  {
   "cell_type": "code",
   "execution_count": null,
   "id": "f848ad90",
   "metadata": {},
   "outputs": [],
   "source": [
    "nome_arquivo = os.path.basename(arquivo_cnab)\n",
    "nome_arquivo"
   ]
  },
  {
   "cell_type": "code",
   "execution_count": null,
   "id": "c6a02caa",
   "metadata": {},
   "outputs": [],
   "source": [
    "#ler o corpo da Remessa\n",
    "import pandas as pd\n",
    "import os\n",
    "\n"
   ]
  },
  {
   "cell_type": "code",
   "execution_count": null,
   "id": "a60d26fd",
   "metadata": {},
   "outputs": [],
   "source": [
    "dados = pd.DataFrame.from_dict(cabecario)"
   ]
  },
  {
   "cell_type": "code",
   "execution_count": null,
   "id": "956ad42e",
   "metadata": {},
   "outputs": [],
   "source": [
    "dados = dados.drop(dados.index[-1])\n"
   ]
  },
  {
   "cell_type": "code",
   "execution_count": null,
   "id": "8e20aa8a",
   "metadata": {},
   "outputs": [],
   "source": [
    "dados['Nome do arquivo'] = nome_arquivo\n",
    "dados['Nome do arquivo'].fillna(method='ffill', inplace=True)"
   ]
  },
  {
   "cell_type": "code",
   "execution_count": null,
   "id": "774096fb",
   "metadata": {},
   "outputs": [],
   "source": [
    "dados['CODIGO DO DOC'] = dados['CODIGO DO DOC'].str.strip()\n",
    "\n",
    "dados['CODIGO DO DOC'] = dados['CODIGO DO DOC'].str.replace(' ', '')"
   ]
  },
  {
   "cell_type": "code",
   "execution_count": null,
   "id": "fe61d47c",
   "metadata": {},
   "outputs": [],
   "source": [
    "dados['Identificação da ocorrência'] = dados['Identificação da ocorrência'].str.strip()\n",
    "\n",
    "dados['Identificação da ocorrência'] = dados['Identificação da ocorrência'].str.replace(' ', '')"
   ]
  },
  {
   "cell_type": "code",
   "execution_count": null,
   "id": "67fe78fd",
   "metadata": {},
   "outputs": [],
   "source": [
    "dados.info()"
   ]
  },
  {
   "cell_type": "code",
   "execution_count": null,
   "id": "f9c73970",
   "metadata": {},
   "outputs": [],
   "source": [
    "dados['Valor do título'] =dados['Valor do título'].str.lstrip('0')\n",
    "dados['Valor do título'] = dados['Valor do título'].apply(lambda x: f'{str(x)[:-2]},{str(x)[-2:]}')\n",
    "dados['Juros da operação em atraso'] =dados['Juros da operação em atraso'].str.lstrip('0')\n",
    "dados['Juros da operação em atraso'] = dados['Juros da operação em atraso'].apply(lambda x: f'{str(x)[:-2]},{str(x)[-2:]}')\n",
    "dados['Valor abatimento concedido'] =dados['Valor abatimento concedido'].str.lstrip('0')\n",
    "dados['Valor abatimento concedido'] = dados['Valor abatimento concedido'].apply(lambda x: f'{str(x)[:-2]},{str(x)[-2:]}')\n",
    "dados['Valor pago'] =dados['Valor pago'].str.lstrip('0')\n",
    "dados['Valor pago'] = dados['Valor pago'].apply(lambda x: f'{str(x)[:-2]},{str(x)[-2:]}')\n",
    "dados['Juros de mora'] =dados['Juros de mora'].str.lstrip('0')\n",
    "dados['Juros de mora'] = dados['Juros de mora'].apply(lambda x: f'{str(x)[:-2]},{str(x)[-2:]}')"
   ]
  },
  {
   "cell_type": "code",
   "execution_count": null,
   "id": "7a5b7584",
   "metadata": {},
   "outputs": [],
   "source": [
    "dados.loc[dados['Identificação da ocorrência'] == '02', 'Identificação da ocorrência'] = \"Aceito\"\n",
    "dados.loc[dados['Identificação da ocorrência'] == '03', 'Identificação da ocorrência'] = \"Entrada Rejeitada\"\n",
    "dados.loc[dados['Identificação da ocorrência'] == '06', 'Identificação da ocorrência'] = \"Liquidação normal\"\n",
    "dados.loc[dados['Identificação da ocorrência'] == '09', 'Identificação da ocorrência'] = \"Baixado Automat. via Arquivo\"\n",
    "dados.loc[dados['Identificação da ocorrência'] == '10', 'Identificação da ocorrência'] = \"Baixado conforme Agência\"\n",
    "dados.loc[dados['Identificação da ocorrência'] == '11', 'Identificação da ocorrência'] = \"Em Ser Títulos pendentes\"\n",
    "dados.loc[dados['Identificação da ocorrência'] == '12', 'Identificação da ocorrência'] = \"Abatimento Concedido\"\n",
    "dados.loc[dados['Identificação da ocorrência'] == '13', 'Identificação da ocorrência'] = \"Abatimento Cancelado\"\n",
    "dados.loc[dados['Identificação da ocorrência'] == '14', 'Identificação da ocorrência'] = \"Vencimento Alterado\"\n",
    "dados.loc[dados['Identificação da ocorrência'] == '15', 'Identificação da ocorrência'] = \"Pago em cartorio\"\n",
    "dados.loc[dados['Identificação da ocorrência'] == '17', 'Identificação da ocorrência'] = \"Liquidação após baixa ou Título não registrado\"\n",
    "dados.loc[dados['Identificação da ocorrência'] == '18', 'Identificação da ocorrência'] = \"Acerto de Depositária\"\n",
    "dados.loc[dados['Identificação da ocorrência'] == '19', 'Identificação da ocorrência'] = \"Confirmação Protesto\"\n",
    "dados.loc[dados['Identificação da ocorrência'] == '20', 'Identificação da ocorrência'] = \"Confirmação Sustação de Protesto\"\n",
    "dados.loc[dados['Identificação da ocorrência'] == '21', 'Identificação da ocorrência'] = \"Acerto do Controle do Participante\"\n",
    "dados.loc[dados['Identificação da ocorrência'] == '22', 'Identificação da ocorrência'] = \"Título Com Pagamento Cancelado\"\n",
    "dados.loc[dados['Identificação da ocorrência'] == '23', 'Identificação da ocorrência'] = \"em Cartório\"\n",
    "dados.loc[dados['Identificação da ocorrência'] == '24', 'Identificação da ocorrência'] = \"Entrada rejeitada por CEP Irregular\"\n",
    "dados.loc[dados['Identificação da ocorrência'] == '27', 'Identificação da ocorrência'] = \"Baixa Rejeitada\"\n",
    "dados.loc[dados['Identificação da ocorrência'] == '28', 'Identificação da ocorrência'] = \"Débito de tarifas/custas\"\n",
    "dados.loc[dados['Identificação da ocorrência'] == '29', 'Identificação da ocorrência'] = \"Ocorrências do Pagador\"\n",
    "dados.loc[dados['Identificação da ocorrência'] == '30', 'Identificação da ocorrência'] = \"Alteração de Outros Dados Rejeitados\"\n",
    "dados.loc[dados['Identificação da ocorrência'] == '32', 'Identificação da ocorrência'] = \"Instrução Rejeitada\"\n",
    "dados.loc[dados['Identificação da ocorrência'] == '33', 'Identificação da ocorrência'] = \"Confirmação Pedido Alteração Outros Dados\"\n",
    "dados.loc[dados['Identificação da ocorrência'] == '36', 'Identificação da ocorrência'] = \"protestado\"\n",
    "dados.loc[dados['Identificação da ocorrência'] == '40', 'Identificação da ocorrência'] = \"Estorno de pagamento\"\n",
    "dados.loc[dados['Identificação da ocorrência'] == '41', 'Identificação da ocorrência'] = \"Título devolvido pelo cartório\"# dados.loc[dados['Identificação da ocorrência'] == '23', 'Identificação da ocorrência'] = \"Instrução para Grafeno Titularidades\"# dados.loc[dados['Identificação da ocorrência'] == '23', 'Identificação da ocorrência'] = \"Instrução para Grafeno Titularidades\"\n",
    "dados.loc[dados['Identificação da ocorrência'] == '77', 'Identificação da ocorrência'] = \"Grafeno Titularidades\"# dados.loc[dados['Identificação da ocorrência'] == '23', 'Identificação da ocorrência'] = \"Instrução para Grafeno Titularidades\"# dados.loc[dados['Identificação da ocorrência'] == '23', 'Identificação da ocorrência'] = \"Instrução para Grafeno Titularidades\"\n",
    "dados.loc[dados['Identificação da ocorrência'] == '78', 'Identificação da ocorrência'] = \"Devolução Grafeno Titularidades\"# dados.loc[dados['Identificação da ocorrência'] == '23', 'Identificação da ocorrência'] = \"Instrução para Grafeno Titularidades\"# dados.loc[dados['Identificação da ocorrência'] == '23', 'Identificação da ocorrência'] = \"Instrução para Grafeno Titularidades\"\n",
    "dados.loc[dados['Identificação da ocorrência'] == '94', 'Identificação da ocorrência'] = \"Registro futuro do Título\"# dados.loc[dados['Identificação da ocorrência'] == '23', 'Identificação da ocorrência'] = \"Instrução para Grafeno Titularidades\"# dados.loc[dados['Identificação da ocorrência'] == '23', 'Identificação da ocorrência'] = \"Instrução para Grafeno Titularidades\"\n"
   ]
  },
  {
   "cell_type": "code",
   "execution_count": null,
   "id": "af548813",
   "metadata": {},
   "outputs": [],
   "source": [
    "dados['Data do ocorrência no banco'] = dados['Data do ocorrência no banco'].astype(str).str.zfill(6)\n",
    "dados['Data do ocorrência no banco'] = dados['Data do ocorrência no banco'].apply(lambda x: f\"{x[:2]}/{x[2:4]}/{x[4:]}\")\n",
    "dados['Data de vencimento do título'] = dados['Data de vencimento do título'].astype(str).str.zfill(6)\n",
    "dados['Data de vencimento do título'] = dados['Data de vencimento do título'].apply(lambda x: f\"{x[:2]}/{x[2:4]}/{x[4:]}\")\n",
    "\n"
   ]
  },
  {
   "cell_type": "code",
   "execution_count": null,
   "id": "d6ba3de1",
   "metadata": {},
   "outputs": [],
   "source": [
    "df_dados = dados"
   ]
  },
  {
   "cell_type": "markdown",
   "id": "d6d741bf",
   "metadata": {},
   "source": [
    "# header"
   ]
  },
  {
   "cell_type": "code",
   "execution_count": null,
   "id": "fac1f36e",
   "metadata": {},
   "outputs": [],
   "source": [
    "\n",
    "\n",
    "# Filtrar apenas os arquivos que têm a extensão .REM\n",
    "arquivos_rem = [arquivo for arquivo in arquivos if arquivo.endswith('.ret')]\n",
    "\n",
    "# Encontre o arquivo REM mais recente com base na data de modificação\n",
    "if arquivos_rem:\n",
    "    caminho_arquivo_rem = max(arquivos_rem, key=lambda arquivo: os.path.getmtime(os.path.join(pasta, arquivo)))\n",
    "    \n",
    "    # Crie o caminho completo para o arquivo REM mais recente\n",
    "    cnab = os.path.join(pasta, caminho_arquivo_rem)\n",
    "\n",
    "# Defina o caminho para o arquivo CNAB do Santander\n",
    "arquivo_cnab =  cnab\n",
    "\n",
    "# Crie uma lista para armazenar os registros lidos\n",
    "cabecario = []\n",
    "\n",
    "with open(arquivo_cnab, 'r') as arquivo:\n",
    "    # Leia cada linha do arquivo\n",
    "    linhas = arquivo.readlines()\n",
    "\n",
    "    for linha in linhas[0:1]:    # Faça algo com cada linha do arquivo, por exemplo, imprima-a\n",
    "        campo1 = linha[0:1]\n",
    "        campo2 = linha[1:2]\n",
    "        campo3 = linha[2:9]        \n",
    "        campo4 = linha[9:11]    \n",
    "        campo5 = linha[46:76]   \n",
    "        campo6 = linha[76:79] \n",
    "        campo7 = linha[79:94] \n",
    "        campo8 = linha[94:100]  \n",
    "        campo9 = linha[108:110] \n",
    "        campo10 = linha[110:117] \n",
    "        campo11 = linha[394:400]            \n",
    "\n",
    "\n",
    "        registro = {\n",
    "            'TIPO DE REGISTRO HEADER cabeçalho': campo1,\n",
    "            'Identificação do arquivo remessa cabeçalho': campo2,\n",
    "            'Literal remessa cabeçalho': campo3,\n",
    "             'Código do serviço cabeçalho': campo4,\n",
    "              'Nome da empresa cabeçalho': campo5,\n",
    "             'Número do Banco cabeçalho': campo6,\n",
    "             'Nome do banco cabeçalho': campo7,\n",
    "             'Data de gravação do arquivo cabeçalho': campo8,      \n",
    "             'Identificação do sistema cabeçalho': campo9,     \n",
    "             'Número sequencial de remessa cabeçalho': campo10,            \n",
    "             'Número sequencial do registro cabeçalho': campo11,        \n",
    "\n",
    " }\n",
    "        \n",
    "        cabecario.append(registro)\n",
    "\n",
    "for registro in cabecario:\n",
    "    print(registro)"
   ]
  },
  {
   "cell_type": "code",
   "execution_count": null,
   "id": "0cf7c7ec",
   "metadata": {},
   "outputs": [],
   "source": [
    "df_cabecario = pd.DataFrame.from_dict(cabecario)"
   ]
  },
  {
   "cell_type": "code",
   "execution_count": null,
   "id": "807edf60",
   "metadata": {},
   "outputs": [],
   "source": [
    "df_resultado = pd.concat([df_dados, df_cabecario], axis=1)"
   ]
  },
  {
   "cell_type": "code",
   "execution_count": null,
   "id": "5e1daaad",
   "metadata": {},
   "outputs": [],
   "source": [
    "df_resultado.replace('None', pd.NA, inplace=True)\n",
    "\n",
    "# Preencher os valores nulos na coluna 'Código de Serviço' com os valores da linha anterior\n",
    "df_resultado['TIPO DE REGISTRO HEADER cabeçalho'].fillna(method='ffill', inplace=True)\n",
    "df_resultado['Identificação do arquivo remessa cabeçalho'].fillna(method='ffill', inplace=True)\n",
    "df_resultado['Literal remessa cabeçalho'].fillna(method='ffill', inplace=True)\n",
    "df_resultado['Código do serviço cabeçalho'].fillna(method='ffill', inplace=True)\n",
    "df_resultado['Nome da empresa cabeçalho'].fillna(method='ffill', inplace=True)\n",
    "df_resultado['Número do Banco cabeçalho'].fillna(method='ffill', inplace=True)\n",
    "df_resultado['Nome do banco cabeçalho'].fillna(method='ffill', inplace=True)\n",
    "df_resultado['Data de gravação do arquivo cabeçalho'].fillna(method='ffill', inplace=True)\n",
    "df_resultado['Identificação do sistema cabeçalho'].fillna(method='ffill', inplace=True)\n",
    "df_resultado['Número sequencial de remessa cabeçalho'].fillna(method='ffill', inplace=True)\n",
    "df_resultado['Número sequencial do registro cabeçalho'].fillna(method='ffill', inplace=True)\n"
   ]
  },
  {
   "cell_type": "code",
   "execution_count": null,
   "id": "2975170a",
   "metadata": {},
   "outputs": [],
   "source": [
    "df_resultado = df_resultado.replace({pd.NA: None, pd.NaT: None})"
   ]
  },
  {
   "cell_type": "code",
   "execution_count": null,
   "id": "7aaa9c51",
   "metadata": {},
   "outputs": [],
   "source": [
    "\n",
    "\n",
    "# Filtrar apenas os arquivos que têm a extensão .REM\n",
    "arquivos_rem = [arquivo for arquivo in arquivos if arquivo.endswith('.REM')]\n",
    "\n",
    "# Encontre o arquivo REM mais recente com base na data de modificação\n",
    "if arquivos_rem:\n",
    "    caminho_arquivo_rem = max(arquivos_rem, key=lambda arquivo: os.path.getmtime(os.path.join(pasta, arquivo)))\n",
    "    \n",
    "    # Crie o caminho completo para o arquivo REM mais recente\n",
    "    cnab = os.path.join(pasta, caminho_arquivo_rem)\n",
    "\n",
    "# Defina o caminho para o arquivo CNAB do Santander\n",
    "arquivo_cnab =  cnab\n",
    "\n",
    "# Crie uma lista para armazenar os registros lidos\n",
    "cabecario = []\n",
    "\n",
    "with open(arquivo_cnab, 'r') as arquivo:\n",
    "    # Leia cada linha do arquivo\n",
    "    linhas = arquivo.readlines()\n",
    "\n",
    "    for linha in linhas[-1:]:    # Faça algo com cada linha do arquivo, por exemplo, imprima-a\n",
    "        campo1 = linha[0:1]\n",
    "        campo2 = linha[394:400]\n",
    "\n",
    "        \n",
    "\n",
    "\n",
    "        registro = {\n",
    "            'Identificação do registro trailer': campo1,\n",
    "             'Número sequencial de registro trailer': campo2,\n",
    "\n",
    "            \n",
    "            \n",
    "            \n",
    "            \n",
    "\n",
    " }\n",
    "        \n",
    "        cabecario.append(registro)\n",
    "\n",
    "for registro in cabecario:\n",
    "    print(registro)"
   ]
  },
  {
   "cell_type": "code",
   "execution_count": null,
   "id": "f72cddd9",
   "metadata": {},
   "outputs": [],
   "source": [
    "trailer = pd.DataFrame.from_dict(cabecario)\n",
    "df_resultado = pd.concat([df_resultado, trailer], axis=1)\n",
    "df_resultado = df_resultado.replace({pd.NA: None, pd.NaT: None})"
   ]
  },
  {
   "cell_type": "code",
   "execution_count": null,
   "id": "abf16fce",
   "metadata": {},
   "outputs": [],
   "source": [
    "\n",
    "df_resultado['Identificação do registro trailer'].fillna(method='ffill', inplace=True)\n",
    "df_resultado['Número sequencial de registro trailer'].fillna(method='ffill', inplace=True)\n",
    "df_resultado = df_resultado.reset_index()"
   ]
  },
  {
   "cell_type": "code",
   "execution_count": null,
   "id": "0ef8cda9",
   "metadata": {},
   "outputs": [],
   "source": [
    "df_resultado['Data de gravação do arquivo cabeçalho']= pd.to_datetime(df_resultado['Data de gravação do arquivo cabeçalho'])\n",
    "df_resultado['Data de gravação do arquivo cabeçalho'] = df_resultado['Data de gravação do arquivo cabeçalho'].dt.strftime('%Y-%m-%d')"
   ]
  },
  {
   "cell_type": "code",
   "execution_count": null,
   "id": "eccfe937",
   "metadata": {},
   "outputs": [],
   "source": [
    "df_resultado = df_resultado.drop(columns=['index'])\n",
    "\n"
   ]
  },
  {
   "cell_type": "code",
   "execution_count": null,
   "id": "eba60074",
   "metadata": {},
   "outputs": [],
   "source": [
    "df_resultado"
   ]
  },
  {
   "cell_type": "code",
   "execution_count": null,
   "id": "57f91f0a",
   "metadata": {},
   "outputs": [],
   "source": [
    "# df_resultado.to_excel(r'C:\\Users\\elean\\Desktop\\bancodedados\\testegarfenoretorno.xlsx')"
   ]
  },
  {
   "cell_type": "code",
   "execution_count": null,
   "id": "af517f49",
   "metadata": {},
   "outputs": [],
   "source": [
    "import mysql.connector\n",
    "import pandas as pd\n",
    "\n",
    "# Seus dados de conexão\n",
    "mydb = mysql.connector.connect(\n",
    "    host='db_sabertrimed.mysql.dbaas.com.br',\n",
    "    user='db_sabertrimed',\n",
    "    password='s@BRtR1m3d',\n",
    "    database='db_sabertrimed',\n",
    ")\n",
    "\n",
    "\n",
    "# Função para inserir dados na tabela\n",
    "def inserir_dados(cursor, tabela, df_resultado):\n",
    "    for index, row in df_resultado.iterrows():\n",
    "        placeholders = ', '.join(['%s'] * len(row))\n",
    "        columns = ', '.join(f\"`{col}`\" for col in row.keys())\n",
    "        sql = f\"INSERT INTO {tabela} ({columns}) VALUES ({placeholders})\"\n",
    "        cursor.execute(sql, tuple(row))\n",
    "\n",
    "# Cria um cursor para executar consultas\n",
    "cursor = mydb.cursor()\n",
    "\n",
    "# Nome da tabela no banco de dados\n",
    "nome_tabela = 'retorno_grafeno'\n",
    "\n",
    "# Insere os dados na tabela\n",
    "inserir_dados(cursor, nome_tabela, df_resultado)\n",
    "\n",
    "# Commit para salvar as alterações\n",
    "mydb.commit()\n",
    "\n",
    "# Fecha o cursor e a conexão\n",
    "cursor.close()\n",
    "mydb.close()\n",
    "\n",
    "print(\"remessa salva no banco de dados!\")"
   ]
  },
  {
   "cell_type": "code",
   "execution_count": null,
   "id": "f6342e8e",
   "metadata": {},
   "outputs": [],
   "source": [
    "import shutil\n",
    "# Pasta de destino\n",
    "pasta_destino = r'C:\\Users\\elean\\Desktop\\RETORNOS\\grafeno\\Processados\\2024\\lido'\n",
    "\n",
    "# Movendo o arquivo\n",
    "shutil.move(arquivo_cnab, pasta_destino)\n",
    "print(f'O arquivo foi movido para {pasta_destino}')\n"
   ]
  },
  {
   "cell_type": "code",
   "execution_count": null,
   "id": "a6664327",
   "metadata": {},
   "outputs": [],
   "source": []
  },
  {
   "cell_type": "code",
   "execution_count": null,
   "id": "008310ee",
   "metadata": {},
   "outputs": [],
   "source": []
  },
  {
   "cell_type": "code",
   "execution_count": null,
   "id": "e3e46269",
   "metadata": {},
   "outputs": [],
   "source": []
  },
  {
   "cell_type": "raw",
   "id": "91db7f94",
   "metadata": {},
   "source": []
  }
 ],
 "metadata": {
  "kernelspec": {
   "display_name": "Python 3 (ipykernel)",
   "language": "python",
   "name": "python3"
  },
  "language_info": {
   "codemirror_mode": {
    "name": "ipython",
    "version": 3
   },
   "file_extension": ".py",
   "mimetype": "text/x-python",
   "name": "python",
   "nbconvert_exporter": "python",
   "pygments_lexer": "ipython3",
   "version": "3.11.5"
  }
 },
 "nbformat": 4,
 "nbformat_minor": 5
}
