{
 "cells": [
  {
   "cell_type": "code",
   "execution_count": 1,
   "id": "36550728",
   "metadata": {},
   "outputs": [],
   "source": [
    "import os\n",
    "from datetime import datetime\n",
    "\n",
    "pasta = r'C:\\Users\\elean\\Desktop\\RETORNOS\\retorno_itau\\Processados\\2025'\n",
    "\n",
    "# Lista todos os arquivos na pasta\n",
    "arquivos = os.listdir(pasta)\n",
    "\n",
    "# Filtra apenas os arquivos que têm a extensão .RET\n",
    "arquivos_rem = [arquivo for arquivo in arquivos if arquivo.endswith('.RET')]\n",
    "\n",
    "# Encontra o arquivo RET mais recente com base na data de modificação\n",
    "if arquivos_rem:\n",
    "    caminho_arquivo_rem = max(arquivos_rem, key=lambda arquivo: os.path.getmtime(os.path.join(pasta, arquivo)))\n",
    "    \n",
    "    # Cria o caminho completo para o arquivo RET mais recente\n",
    "    cnab = os.path.join(pasta, caminho_arquivo_rem)\n",
    "\n",
    "    # Define o novo nome do arquivo com a data de hoje\n",
    "    data_hoje = datetime.now().strftime(\"%Y%m%d\")\n",
    "    novo_nome_arquivo = f\"{os.path.splitext(caminho_arquivo_rem)[0]}_{data_hoje}{os.path.splitext(caminho_arquivo_rem)[1]}\"\n",
    "\n",
    "    # Renomeia o arquivo\n",
    "    novo_caminho_arquivo = os.path.join(pasta, novo_nome_arquivo)\n",
    "    os.rename(cnab, novo_caminho_arquivo)\n",
    "\n",
    "\n",
    "# Crie uma lista para armazenar os registros lidos\n",
    "cabecario = []\n",
    "\n",
    "with open(novo_caminho_arquivo, 'r') as arquivo:\n",
    "    # Leia cada linha do arquivo\n",
    "    linhas = arquivo.readlines()\n",
    "\n",
    "for linha in linhas[1:]:     # Faça algo com cada linha do arquivo, por exemplo, imprima-a\n",
    "    campo1 = linha[0:1]\n",
    "    campo2 = linha[1:3]\n",
    "    campo3 = linha[3:17]\n",
    "    campo4 = linha[17:21]    \n",
    "    campo5 = linha[24:28]        \n",
    "    campo6 = linha[28:29]        \n",
    "    campo7 = linha[37:62]        \n",
    "    campo8 = linha[62:70]        \n",
    "    campo9 = linha[82:85]        \n",
    "    campo10 = linha[93:94]        \n",
    "    campo11 = linha[108:110]  \n",
    "    campo12 = linha[110:116]        \n",
    "    campo13 = linha[116:126]        \n",
    "    campo14 = linha[126:134]        \n",
    "    campo15 = linha[146:152]        \n",
    "    campo16 = linha[152:165]        \n",
    "    campo17 = linha[165:168]        \n",
    "    campo18 = linha[168:172]        \n",
    "    campo19 = linha[172:173]        \n",
    "    campo20 = linha[175:188]        \n",
    "    campo21 = linha[214:227]        \n",
    "    campo22 = linha[227:240]   \n",
    "    campo23 = linha[240:253]        \n",
    "    campo24 = linha[253:266]        \n",
    "    campo25 = linha[266:279]        \n",
    "    campo26 = linha[279:292]        \n",
    "    campo27 = linha[292:293]        \n",
    "    campo28 = linha[295:301]        \n",
    "    campo29 = linha[301:305]        \n",
    "    campo30 = linha[324:354]        \n",
    "    campo31 = linha[377:385]        \n",
    "    campo32 = linha[392:394]        \n",
    "    campo33 = linha[394:400]        \n",
    "\n",
    "\n",
    "\n",
    "\n",
    "\n",
    "\n",
    "\n",
    "\n",
    "    #campo32= linha[218:220]\n",
    "    #campo32= linha[218:220]\n",
    "    registro = {\n",
    "    'Código do Registro': campo1,\n",
    "     'CÓDIGO DE INSCRIÇÃO': campo2,   \n",
    "     'Nº de inscrição do beneficiário': campo3,     \n",
    "     'Código da agência beneficiário': campo4,     \n",
    "     'Conta movimento beneficiário': campo5,   \n",
    "      'DAC': campo6,             \n",
    "      'USO DA EMPRESA': campo7,             \n",
    "      'NOSSO NÚMERO': campo8,             \n",
    "      'CARTEIRA': campo9,             \n",
    "      'DAC NOSSO NÚMERO': campo10,             \n",
    "      'CÓD. DE OCORRÊNCIA': campo11,             \n",
    "      'DATA DE OCORRÊNCIA': campo12,             \n",
    "      'CODIGO DO DOC': campo13,             \n",
    "      'NOSSO NÚMERO 2': campo14,             \n",
    "      'VENCIMENTO': campo15,             \n",
    "      'VALOR DO TÍTULO': campo16,             \n",
    "      'CÓDIGO DO BANCO': campo17,             \n",
    "      'AGÊNCIA COBRADORA': campo18,             \n",
    "      'DAC AG. COBRADORA': campo19,             \n",
    "      'TARIFA DE COBRANÇA': campo20,            \n",
    "     'VALOR DO IOF': campo21,             \n",
    "     'VALOR ABATIMENTO': campo22,             \n",
    "     'DESCONTOS': campo23,             \n",
    "     'VALOR PRINCIPAL': campo24,             \n",
    "     'JUROS DE MORA/MULTA': campo25,             \n",
    "     'OUTROS CRÉDITOS': campo26,             \n",
    "     'BOLETO DDA': campo27,             \n",
    "     'DATA CRÉDITO': campo28,             \n",
    "     'INSTR.CANCELADA': campo29,             \n",
    "      'NOME': campo30,             \n",
    "     'ERROS': campo31,   \n",
    "     'CÓD. DE LIQUIDAÇÃO': campo32,             \n",
    "     'NÚMERO SEQUENCIAL': campo33,             \n",
    "\n",
    "\n",
    "\n",
    "\n",
    "\n",
    " }\n",
    "        \n",
    "    cabecario.append(registro)\n",
    "\n",
    "# for registro in cabecario:\n",
    "#     print(registro)\n",
    "\n"
   ]
  },
  {
   "cell_type": "code",
   "execution_count": 2,
   "id": "cfa254cb",
   "metadata": {},
   "outputs": [],
   "source": [
    "nome_arquivo = os.path.basename(novo_caminho_arquivo)\n"
   ]
  },
  {
   "cell_type": "code",
   "execution_count": 3,
   "id": "6181e1b3",
   "metadata": {},
   "outputs": [
    {
     "data": {
      "text/plain": [
       "'CN18124A_20241220.RET'"
      ]
     },
     "execution_count": 3,
     "metadata": {},
     "output_type": "execute_result"
    }
   ],
   "source": [
    "nome_arquivo"
   ]
  },
  {
   "cell_type": "code",
   "execution_count": 4,
   "id": "9e073f05",
   "metadata": {},
   "outputs": [],
   "source": [
    "#ler o corpo da Remessa\n",
    "import pandas as pd\n",
    "import os\n",
    "\n"
   ]
  },
  {
   "cell_type": "code",
   "execution_count": 5,
   "id": "4493b7e6",
   "metadata": {},
   "outputs": [],
   "source": [
    "dados = pd.DataFrame.from_dict(cabecario)\n",
    "dados = dados.drop(dados.index[-1])\n"
   ]
  },
  {
   "cell_type": "code",
   "execution_count": 6,
   "id": "dfaa41f9",
   "metadata": {},
   "outputs": [],
   "source": [
    "dados['Nome do arquivo'] = nome_arquivo\n",
    "dados['Nome do arquivo'].fillna(method='ffill', inplace=True)"
   ]
  },
  {
   "cell_type": "code",
   "execution_count": 7,
   "id": "13cde853",
   "metadata": {},
   "outputs": [],
   "source": [
    "dados['CODIGO DO DOC'] = dados['CODIGO DO DOC'].str.strip()\n",
    "\n",
    "dados['CODIGO DO DOC'] = dados['CODIGO DO DOC'].str.replace(' ', '')"
   ]
  },
  {
   "cell_type": "code",
   "execution_count": 8,
   "id": "95e14b5e",
   "metadata": {},
   "outputs": [],
   "source": [
    "dados['CÓD. DE OCORRÊNCIA'] = dados['CÓD. DE OCORRÊNCIA'].str.strip()\n",
    "\n",
    "dados['CÓD. DE OCORRÊNCIA'] = dados['CÓD. DE OCORRÊNCIA'].str.replace(' ', '')"
   ]
  },
  {
   "cell_type": "code",
   "execution_count": 9,
   "id": "d3f826f0",
   "metadata": {},
   "outputs": [],
   "source": [
    "dados.to_excel(r\"C:\\Users\\elean\\Desktop\\bancodedados\\testeitau.xlsx\")"
   ]
  },
  {
   "cell_type": "code",
   "execution_count": 10,
   "id": "f1ecdbd2",
   "metadata": {},
   "outputs": [],
   "source": [
    "dados['VALOR DO TÍTULO'] =dados['VALOR DO TÍTULO'].str.lstrip('0')\n",
    "dados['VALOR DO TÍTULO'] = dados['VALOR DO TÍTULO'].apply(lambda x: f'{str(x)[:-2]},{str(x)[-2:]}')\n",
    "dados['TARIFA DE COBRANÇA'] =dados['TARIFA DE COBRANÇA'].str.lstrip('0')\n",
    "dados['TARIFA DE COBRANÇA'] = dados['TARIFA DE COBRANÇA'].apply(lambda x: f'{str(x)[:-2]},{str(x)[-2:]}')\n",
    "dados['DESCONTOS'] =dados['DESCONTOS'].str.lstrip('0')\n",
    "dados['DESCONTOS'] = dados['DESCONTOS'].apply(lambda x: f'{str(x)[:-2]},{str(x)[-2:]}')\n",
    "dados['VALOR DO IOF'] =dados['VALOR DO IOF'].str.lstrip('0')\n",
    "dados['VALOR DO IOF'] = dados['VALOR DO IOF'].apply(lambda x: f'{str(x)[:-2]},{str(x)[-2:]}')\n",
    "dados['VALOR PRINCIPAL'] =dados['VALOR PRINCIPAL'].str.lstrip('0')\n",
    "dados['VALOR PRINCIPAL'] = dados['VALOR PRINCIPAL'].apply(lambda x: f'{str(x)[:-2]},{str(x)[-2:]}')\n",
    "dados['JUROS DE MORA/MULTA'] =dados['JUROS DE MORA/MULTA'].str.lstrip('0')\n",
    "dados['JUROS DE MORA/MULTA'] = dados['JUROS DE MORA/MULTA'].apply(lambda x: f'{str(x)[:-2]},{str(x)[-2:]}')"
   ]
  },
  {
   "cell_type": "code",
   "execution_count": 11,
   "id": "93f3a91a",
   "metadata": {},
   "outputs": [],
   "source": [
    "dados.loc[dados['CÓD. DE OCORRÊNCIA'] == '02', 'CÓD. DE OCORRÊNCIA'] = \"ENTRADA CONFIRMADA\"\n",
    "dados.loc[dados['CÓD. DE OCORRÊNCIA'] == '03', 'CÓD. DE OCORRÊNCIA'] = \"ENTRADA REJEITADA\"\n",
    "dados.loc[dados['CÓD. DE OCORRÊNCIA'] == '04', 'CÓD. DE OCORRÊNCIA'] = \"ALTERAÇÃO DE DADOS\"\n",
    "dados.loc[dados['CÓD. DE OCORRÊNCIA'] == '05', 'CÓD. DE OCORRÊNCIA'] = \"ALTERAÇÃO DE DADOS–BAIXA\"\n",
    "dados.loc[dados['CÓD. DE OCORRÊNCIA'] == '06', 'CÓD. DE OCORRÊNCIA'] = \"LIQUIDAÇÃO NORMAL\"\n",
    "dados.loc[dados['CÓD. DE OCORRÊNCIA'] == '07', 'CÓD. DE OCORRÊNCIA'] = \"LIQUIDAÇÃO PARCIAL\"\n",
    "dados.loc[dados['CÓD. DE OCORRÊNCIA'] == '08', 'CÓD. DE OCORRÊNCIA'] = \"LIQUIDAÇÃO EM CARTÓRIO\"\n",
    "dados.loc[dados['CÓD. DE OCORRÊNCIA'] == '09', 'CÓD. DE OCORRÊNCIA'] = \"BAIXA SIMPLES\"\n",
    "dados.loc[dados['CÓD. DE OCORRÊNCIA'] == '10', 'CÓD. DE OCORRÊNCIA'] = \"BAIXA POR TER SIDO LIQUIDADO\"\n",
    "dados.loc[dados['CÓD. DE OCORRÊNCIA'] == '11', 'CÓD. DE OCORRÊNCIA'] = \"EM SER SÓ NO RETORNO MENSAL\"\n",
    "dados.loc[dados['CÓD. DE OCORRÊNCIA'] == '12', 'CÓD. DE OCORRÊNCIA'] = \"ABATIMENTO CONCEDIDOS\"\n",
    "dados.loc[dados['CÓD. DE OCORRÊNCIA'] == '13', 'CÓD. DE OCORRÊNCIA'] = \"ABATIMENTO CANCELADO\"\n",
    "dados.loc[dados['CÓD. DE OCORRÊNCIA'] == '14', 'CÓD. DE OCORRÊNCIA'] = \"VENCIMENTO ALTERADO\"\n",
    "dados.loc[dados['CÓD. DE OCORRÊNCIA'] == '15', 'CÓD. DE OCORRÊNCIA'] = \"BAIXAS REJEITADAS\"\n",
    "dados.loc[dados['CÓD. DE OCORRÊNCIA'] == '16', 'CÓD. DE OCORRÊNCIA'] = \"INSTRUÇÕES REJEITADAS\"\n",
    "dados.loc[dados['CÓD. DE OCORRÊNCIA'] == '17', 'CÓD. DE OCORRÊNCIA'] = \"ALTERAÇÃO/EXCLUSÃO DE DADOS REJEITADOS\"\n",
    "dados.loc[dados['CÓD. DE OCORRÊNCIA'] == '18', 'CÓD. DE OCORRÊNCIA'] = \"COBRANÇA CONTRATUAL – INSTRUÇÕES/ALTERAÇÕES REJEITADAS/PENDENTES\"\n",
    "dados.loc[dados['CÓD. DE OCORRÊNCIA'] == '19', 'CÓD. DE OCORRÊNCIA'] = \"RECEBIMEN INSTRU PROTESTO\"\n",
    "dados.loc[dados['CÓD. DE OCORRÊNCIA'] == '20', 'CÓD. DE OCORRÊNCIA'] = \"RECEBIM SUSTAÇÃO DE PROTESTO/TARIFA\"\n",
    "dados.loc[dados['CÓD. DE OCORRÊNCIA'] == '21', 'CÓD. DE OCORRÊNCIA'] = \"RECEBIMEN INS NÃO PROTESTAR\"\n",
    "dados.loc[dados['CÓD. DE OCORRÊNCIA'] == '23', 'CÓD. DE OCORRÊNCIA'] = \"ENVIADO A CARTÓRIO/TARIFA\"\n",
    "dados.loc[dados['CÓD. DE OCORRÊNCIA'] == '24', 'CÓD. DE OCORRÊNCIA'] = \"INSTR PROTESTO REJEITADA / SUSTADA / PENDENTE\"\n",
    "dados.loc[dados['CÓD. DE OCORRÊNCIA'] == '25', 'CÓD. DE OCORRÊNCIA'] = \"ALEGAÇÕES DO PAGADOR\"\n",
    "dados.loc[dados['CÓD. DE OCORRÊNCIA'] == '26', 'CÓD. DE OCORRÊNCIA'] = \"TARIFA DE AVISO DE COBRANÇA\"\n",
    "dados.loc[dados['CÓD. DE OCORRÊNCIA'] == '27', 'CÓD. DE OCORRÊNCIA'] = \"TARIFA DE EXTRATO POSIÇÃO\"\n",
    "dados.loc[dados['CÓD. DE OCORRÊNCIA'] == '28', 'CÓD. DE OCORRÊNCIA'] = \"TARIFA DE RELAÇÃO DAS LIQUIDAÇÕES\"\n",
    "dados.loc[dados['CÓD. DE OCORRÊNCIA'] == '29', 'CÓD. DE OCORRÊNCIA'] = \"TARIFA DE MANUTENÇÃO DE TÍTULOS VENCIDOS\"\n",
    "dados.loc[dados['CÓD. DE OCORRÊNCIA'] == '30', 'CÓD. DE OCORRÊNCIA'] = \"DÉBITO MENSAL DE TARIFAS (PARA ENTRADAS E BAIXAS)\"\n",
    "dados.loc[dados['CÓD. DE OCORRÊNCIA'] == '32', 'CÓD. DE OCORRÊNCIA'] = \"BAIXA POR TER SIDO PROTESTADO\"\n",
    "dados.loc[dados['CÓD. DE OCORRÊNCIA'] == '33', 'CÓD. DE OCORRÊNCIA'] = \"CUSTAS DE PROTESTO\"\n",
    "dados.loc[dados['CÓD. DE OCORRÊNCIA'] == '34', 'CÓD. DE OCORRÊNCIA'] = \"RCUSTAS DE SUSTAÇÃO\"\n",
    "dados.loc[dados['CÓD. DE OCORRÊNCIA'] == '35', 'CÓD. DE OCORRÊNCIA'] = \"CUSTAS DE CARTÓRIO DISTRIBUIDOR\"\n",
    "dados.loc[dados['CÓD. DE OCORRÊNCIA'] == '36', 'CÓD. DE OCORRÊNCIA'] = \"CUSTAS DE EDITAL\"\n",
    "dados.loc[dados['CÓD. DE OCORRÊNCIA'] == '37', 'CÓD. DE OCORRÊNCIA'] = \"TARIFA DE EMISSÃO DE BOLETO/TARIFA DE ENVIO DE DUPLICATA\"\n",
    "dados.loc[dados['CÓD. DE OCORRÊNCIA'] == '38', 'CÓD. DE OCORRÊNCIA'] = \"TARIFA DE INSTRUÇÃO\"\n",
    "dados.loc[dados['CÓD. DE OCORRÊNCIA'] == '39', 'CÓD. DE OCORRÊNCIA'] = \"TARIFA DE OCORRÊNCIAS\"\n",
    "dados.loc[dados['CÓD. DE OCORRÊNCIA'] == '40', 'CÓD. DE OCORRÊNCIA'] = \"TARIFA MENSAL DE EMISSÃO DE BOLETO/TARIFA MENSAL DE ENVIO DE DUPLICATA\"\n",
    "dados.loc[dados['CÓD. DE OCORRÊNCIA'] == '41', 'CÓD. DE OCORRÊNCIA'] = \"DÉBITO MENSAL DE TARIFAS – EXTRATO DE POSIÇÃO\"\n",
    "dados.loc[dados['CÓD. DE OCORRÊNCIA'] == '42', 'CÓD. DE OCORRÊNCIA'] = \"DÉBITO MENSAL DE TARIFAS – OUTRAS INSTRUÇÕES\"\n",
    "dados.loc[dados['CÓD. DE OCORRÊNCIA'] == '43', 'CÓD. DE OCORRÊNCIA'] = \"DÉBITO MENSAL DE TARIFAS – MANUTENÇÃO DE TÍTULOS VENCIDOS\"\n",
    "dados.loc[dados['CÓD. DE OCORRÊNCIA'] == '44', 'CÓD. DE OCORRÊNCIA'] = \"DÉBITO MENSAL DE TARIFAS – OUTRAS OCORRÊNCIAS\"\n",
    "dados.loc[dados['CÓD. DE OCORRÊNCIA'] == '45', 'CÓD. DE OCORRÊNCIA'] = \"DÉBITO MENSAL DE TARIFAS – PROTESTO\"\n",
    "dados.loc[dados['CÓD. DE OCORRÊNCIA'] == '46', 'CÓD. DE OCORRÊNCIA'] = \"DÉBITO MENSAL DE TARIFAS – SUSTAÇÃO DE PROTESTO\"\n",
    "dados.loc[dados['CÓD. DE OCORRÊNCIA'] == '47', 'CÓD. DE OCORRÊNCIA'] = \"BAIXA COM TRANSFERÊNCIA PARA DESCONTO\"\n",
    "dados.loc[dados['CÓD. DE OCORRÊNCIA'] == '48', 'CÓD. DE OCORRÊNCIA'] = \"CUSTAS DE SUSTAÇÃO JUDICIAL\"\n",
    "dados.loc[dados['CÓD. DE OCORRÊNCIA'] == '51', 'CÓD. DE OCORRÊNCIA'] = \"TARIFA MENSAL REF A ENTRADAS BANCOS CORRESPONDENTES NA CARTEIRAS\"\n",
    "dados.loc[dados['CÓD. DE OCORRÊNCIA'] == '52', 'CÓD. DE OCORRÊNCIA'] = \"TARIFA MENSAL BAIXAS NA CARTEIRA\"\n",
    "dados.loc[dados['CÓD. DE OCORRÊNCIA'] == '53', 'CÓD. DE OCORRÊNCIA'] = \"TARIFA MENSAL BAIXAS EM BANCOS CORRESPONDENTES NA CARTEIRA\"\n",
    "dados.loc[dados['CÓD. DE OCORRÊNCIA'] == '54', 'CÓD. DE OCORRÊNCIA'] = \"TARIFA MENSAL DE LIQUIDAÇÕES NA CARTEIRA\"\n",
    "dados.loc[dados['CÓD. DE OCORRÊNCIA'] == '55', 'CÓD. DE OCORRÊNCIA'] = \"TARIFA MENSAL DE LIQUIDAÇÕES EM BANCOS CORRESPONDENTES NA CARTEIRA\"\n",
    "dados.loc[dados['CÓD. DE OCORRÊNCIA'] == '56', 'CÓD. DE OCORRÊNCIA'] = \"CUSTAS DE IRREGULARIDADE\"\n",
    "dados.loc[dados['CÓD. DE OCORRÊNCIA'] == '57', 'CÓD. DE OCORRÊNCIA'] = \"INSTRUÇÃO CANCELADA\"\n",
    "dados.loc[dados['CÓD. DE OCORRÊNCIA'] == '59', 'CÓD. DE OCORRÊNCIA'] = \"BAIXA POR CRÉDITO EM C/C ATRAVÉS DO SISPAG\"\n",
    "dados.loc[dados['CÓD. DE OCORRÊNCIA'] == '60', 'CÓD. DE OCORRÊNCIA'] = \"ENTRADA REJEITADA CARNÊ\"\n",
    "dados.loc[dados['CÓD. DE OCORRÊNCIA'] == '61', 'CÓD. DE OCORRÊNCIA'] = \"TARIFA EMISSÃO AVISO DE MOVIMENTAÇÃO DE TÍTULOS\"\n",
    "dados.loc[dados['CÓD. DE OCORRÊNCIA'] == '62', 'CÓD. DE OCORRÊNCIA'] = \"DÉBITO MENSAL DE TARIFA\"\n",
    "dados.loc[dados['CÓD. DE OCORRÊNCIA'] == '63', 'CÓD. DE OCORRÊNCIA'] = \"TÍTULO SUSTADO JUDICIALMENTE\"\n",
    "dados.loc[dados['CÓD. DE OCORRÊNCIA'] == '64', 'CÓD. DE OCORRÊNCIA'] = \"ENTRADA CONFIRMADA COM RATEIO DE CRÉDITO\"\n",
    "dados.loc[dados['CÓD. DE OCORRÊNCIA'] == '65', 'CÓD. DE OCORRÊNCIA'] = \"PAGAMENTO COM CHEQUE – AGUARDANDO COMPENSAÇÃO\"\n",
    "dados.loc[dados['CÓD. DE OCORRÊNCIA'] == '69', 'CÓD. DE OCORRÊNCIA'] = \"CHEQUE DEVOLVIDO\"\n",
    "dados.loc[dados['CÓD. DE OCORRÊNCIA'] == '71', 'CÓD. DE OCORRÊNCIA'] = \"ENTRADA REGISTRADA, AGUARDANDO AVALIAÇÃO\"\n",
    "dados.loc[dados['CÓD. DE OCORRÊNCIA'] == '72', 'CÓD. DE OCORRÊNCIA'] = \"BAIXA POR CRÉDITO EM C/C ATRAVÉS DO SISPAG SEM TÍTULO CORRESPONDENTE\"\n",
    "dados.loc[dados['CÓD. DE OCORRÊNCIA'] == '73', 'CÓD. DE OCORRÊNCIA'] = \"CONFIRMAÇÃO DE ENTRADA NA COBRANÇA SIMPLES – ENTRADA NÃO ACEITA NA COBRANÇA CONTRATUAL\"\n",
    "dados.loc[dados['CÓD. DE OCORRÊNCIA'] == '74', 'CÓD. DE OCORRÊNCIA'] = \"INSTRUÇÃO DE NEGATIVAÇÃO EXPRESSA REJEITADA\"\n",
    "dados.loc[dados['CÓD. DE OCORRÊNCIA'] == '75', 'CÓD. DE OCORRÊNCIA'] = \"CONFIRMAÇÃO DE RECEBIMENTO DE INSTRUÇÃO DE ENTRADA EM NEGATIVAÇÃO EXPRESSA\"\n",
    "dados.loc[dados['CÓD. DE OCORRÊNCIA'] == '76', 'CÓD. DE OCORRÊNCIA'] = \"CHEQUE COMPENSADO\"\n",
    "dados.loc[dados['CÓD. DE OCORRÊNCIA'] == '77', 'CÓD. DE OCORRÊNCIA'] = \"CONFIRMAÇÃO DE RECEBIMENTO DE INSTRUÇÃO DE EXCLUSÃO DE ENTRADA EM NEGATIVAÇÃO EXPRESSA\"\n",
    "dados.loc[dados['CÓD. DE OCORRÊNCIA'] == '78', 'CÓD. DE OCORRÊNCIA'] = \"CONFIRMAÇÃO DE RECEBIMENTO DE INSTRUÇÃO DE CANCELAMENTO DE NEGATIVAÇÃO EXPRESSA\"\n",
    "dados.loc[dados['CÓD. DE OCORRÊNCIA'] == '79', 'CÓD. DE OCORRÊNCIA'] = \"NEGATIVAÇÃO EXPRESSA INFORMACIONAL\"\n",
    "dados.loc[dados['CÓD. DE OCORRÊNCIA'] == '80', 'CÓD. DE OCORRÊNCIA'] = \"CONFIRMAÇÃO DE ENTRADA EM NEGATIVAÇÃO EXPRESSA – TARIFA\"\n",
    "dados.loc[dados['CÓD. DE OCORRÊNCIA'] == '82', 'CÓD. DE OCORRÊNCIA'] = \"CONFIRMAÇÃO DO CANCELAMENTO DE NEGATIVAÇÃO EXPRESSA – TARIFA\"\n",
    "\n",
    "dados.loc[dados['CÓD. DE OCORRÊNCIA'] == '83', 'CÓD. DE OCORRÊNCIA'] = \"CONFIRMAÇÃO DE EXCLUSÃO DE ENTRADA EM NEGATIVAÇÃO EXPRESSA POR LIQUIDAÇÃO – TARIFA\"\n",
    "dados.loc[dados['CÓD. DE OCORRÊNCIA'] == '85', 'CÓD. DE OCORRÊNCIA'] = \"TARIFA POR BOLETO (ATÉ 03 ENVIOS) COBRANÇA ATIVA ELETRÔNICAS\"\n",
    "dados.loc[dados['CÓD. DE OCORRÊNCIA'] == '86', 'CÓD. DE OCORRÊNCIA'] = \"TARIFA EMAIL COBRANÇA ATIVA ELETRÔNICA\"\n",
    "dados.loc[dados['CÓD. DE OCORRÊNCIA'] == '87', 'CÓD. DE OCORRÊNCIA'] = \"TARIFA SMS COBRANÇA ATIVA ELETRÔNICA\"\n",
    "dados.loc[dados['CÓD. DE OCORRÊNCIA'] == '88', 'CÓD. DE OCORRÊNCIA'] = \"TARIFA MENSAL POR BOLETO (ATÉ 03 ENVIOS) COBRANÇA ATIVA ELETRÔNICA\"\n",
    "dados.loc[dados['CÓD. DE OCORRÊNCIA'] == '89', 'CÓD. DE OCORRÊNCIA'] = \"TARIFA MENSAL EMAIL COBRANÇA ATIVA ELETRÔNICA\"\n",
    "dados.loc[dados['CÓD. DE OCORRÊNCIA'] == '90', 'CÓD. DE OCORRÊNCIA'] = \"TARIFA MENSAL SMS COBRANÇA ATIVA ELETRÔNICA\"\n",
    "dados.loc[dados['CÓD. DE OCORRÊNCIA'] == '91', 'CÓD. DE OCORRÊNCIA'] = \"TARIFA MENSAL DE EXCLUSÃO DE ENTRADA DE NEGATIVAÇÃO EXPRESSA\"\n",
    "dados.loc[dados['CÓD. DE OCORRÊNCIA'] == '92', 'CÓD. DE OCORRÊNCIA'] = \"TARIFA MENSAL DE CANCELAMENTO DE NEGATIVAÇÃO EXPRESSA\"\n",
    "dados.loc[dados['CÓD. DE OCORRÊNCIA'] == '93', 'CÓD. DE OCORRÊNCIA'] = \"TARIFA MENSAL DE EXCLUSÃO DE NEGATIVAÇÃO EXPRESSA POR LIQUIDAÇÃO\"\n",
    "\n",
    "\n"
   ]
  },
  {
   "cell_type": "code",
   "execution_count": null,
   "id": "892b5240",
   "metadata": {
    "scrolled": true
   },
   "outputs": [],
   "source": []
  },
  {
   "cell_type": "code",
   "execution_count": 12,
   "id": "9636336d",
   "metadata": {},
   "outputs": [],
   "source": [
    "#dados.to_excel(r\"C:\\Users\\elean\\Desktop\\bancodedados\\testeitau.xlsx\")"
   ]
  },
  {
   "cell_type": "code",
   "execution_count": 13,
   "id": "d69b9aee",
   "metadata": {},
   "outputs": [],
   "source": [
    "dados['DATA DE OCORRÊNCIA'] = dados['DATA DE OCORRÊNCIA'].astype(str).str.zfill(6)\n",
    "dados['DATA DE OCORRÊNCIA'] = dados['DATA DE OCORRÊNCIA'].apply(lambda x: f\"{x[:2]}/{x[2:4]}/{x[4:]}\")\n",
    "dados['VENCIMENTO'] = dados['VENCIMENTO'].astype(str).str.zfill(6)\n",
    "dados['VENCIMENTO'] = dados['VENCIMENTO'].apply(lambda x: f\"{x[:2]}/{x[2:4]}/{x[4:]}\")\n"
   ]
  },
  {
   "cell_type": "code",
   "execution_count": 14,
   "id": "8d8969b3",
   "metadata": {},
   "outputs": [],
   "source": [
    "df_dados = dados"
   ]
  },
  {
   "cell_type": "markdown",
   "id": "21f39d0b",
   "metadata": {},
   "source": [
    "# HEADER"
   ]
  },
  {
   "cell_type": "code",
   "execution_count": 15,
   "id": "da8e6d1a",
   "metadata": {},
   "outputs": [
    {
     "name": "stdout",
     "output_type": "stream",
     "text": [
      "{'TIPO DE REGISTRO HEADER': '0', 'CÓDIGO DE RETORNO': '2', 'LITERAL DE RETORNO HEADER': 'RETORNO', 'LITERAL DE SERVIÇO HEADER': 'COBRANCA       ', 'AGÊNCIA HEADER': '0579', 'CONTA HEADER': '01411', 'DAC HEADER': '9', 'NOME DA EMPRESA HEADER': ' CEMA PRODUTOS PARA SAUDE      ', 'CODIGO DO BANCO HEADER': '341', 'NOME DO BANCO HEADER': 'BANCO ITAU S.A.', 'DATA DE GERAÇÃO HEADER': '181224', 'NUMERO SEQUENCIAL HEADER': '000001', 'DENSIDADE': '01600', 'UNIDADE DE DENSID': 'BPI', 'Nº SEQ. ARQUIVO RET': '03050'}\n"
     ]
    }
   ],
   "source": [
    "\n",
    "\n",
    "# Filtrar apenas os arquivos que têm a extensão .REM\n",
    "arquivos_rem = [arquivo for arquivo in arquivos if arquivo.endswith('.REM')]\n",
    "\n",
    "# Encontre o arquivo REM mais recente com base na data de modificação\n",
    "if arquivos_rem:\n",
    "    caminho_arquivo_rem = max(arquivos_rem, key=lambda arquivo: os.path.getmtime(os.path.join(pasta, arquivo)))\n",
    "    \n",
    "    # Crie o caminho completo para o arquivo REM mais recente\n",
    "    cnab = os.path.join(pasta, caminho_arquivo_rem)\n",
    "\n",
    "# Defina o caminho para o arquivo CNAB do Santander\n",
    "arquivo_cnab =  cnab\n",
    "\n",
    "# Crie uma lista para armazenar os registros lidos\n",
    "cabecario = []\n",
    "\n",
    "with open(novo_caminho_arquivo, 'r') as arquivo:\n",
    "    # Leia cada linha do arquivo\n",
    "    linhas = arquivo.readlines()\n",
    "\n",
    "    for linha in linhas[0:1]:    # Faça algo com cada linha do arquivo, por exemplo, imprima-a\n",
    "        campo1 = linha[0:1]\n",
    "        campo2 = linha[1:2]\n",
    "        campo3 = linha[2:9]        \n",
    "#         campo4 = linha[9:11]    \n",
    "        campo5 = linha[11:26]   \n",
    "        campo6 = linha[26:30] \n",
    "        campo7 = linha[32:37] \n",
    "        campo8 = linha[37:38]  \n",
    "        campo9 = linha[45:76] \n",
    "        campo10 = linha[76:79] \n",
    "        campo11 = linha[79:94]           \n",
    "        campo12 = linha[94:100] \n",
    "        campo13 = linha[394:400]  \n",
    "        campo14 = linha[100:105] \n",
    "        campo15 = linha[105:108]  \n",
    "        campo16 = linha[108:113]  \n",
    "\n",
    "\n",
    "        registro = {\n",
    "            'TIPO DE REGISTRO HEADER': campo1,\n",
    "            'CÓDIGO DE RETORNO': campo2,\n",
    "            'LITERAL DE RETORNO HEADER': campo3,\n",
    "#              'CÓDIGO DO SERVIÇO HEADER': campo4,\n",
    "              'LITERAL DE SERVIÇO HEADER': campo5,\n",
    "             'AGÊNCIA HEADER': campo6,\n",
    "             'CONTA HEADER': campo7,\n",
    "             'DAC HEADER': campo8,      \n",
    "             'NOME DA EMPRESA HEADER': campo9,     \n",
    "             'CODIGO DO BANCO HEADER': campo10,            \n",
    "             'NOME DO BANCO HEADER': campo11,        \n",
    "             'DATA DE GERAÇÃO HEADER': campo12,\n",
    "            'NUMERO SEQUENCIAL HEADER': campo13,        \n",
    "            'DENSIDADE': campo14,        \n",
    "            'UNIDADE DE DENSID': campo15,        \n",
    "            'Nº SEQ. ARQUIVO RET': campo16,        \n",
    "\n",
    " }\n",
    "        \n",
    "        cabecario.append(registro)\n",
    "\n",
    "for registro in cabecario:\n",
    "    print(registro)"
   ]
  },
  {
   "cell_type": "code",
   "execution_count": 16,
   "id": "16af0ac7",
   "metadata": {},
   "outputs": [],
   "source": [
    "df_cabecario = pd.DataFrame.from_dict(cabecario)"
   ]
  },
  {
   "cell_type": "code",
   "execution_count": 17,
   "id": "9375c1b8",
   "metadata": {},
   "outputs": [],
   "source": [
    "df_resultado = pd.concat([df_dados, df_cabecario], axis=1)"
   ]
  },
  {
   "cell_type": "code",
   "execution_count": 18,
   "id": "e3c5302b",
   "metadata": {},
   "outputs": [],
   "source": [
    "df_resultado.replace('None', pd.NA, inplace=True)\n",
    "\n",
    "# Preencher os valores nulos na coluna 'Código de Serviço' com os valores da linha anterior\n",
    "df_resultado['TIPO DE REGISTRO HEADER'].fillna(method='ffill', inplace=True)\n",
    "df_resultado['CÓDIGO DE RETORNO'].fillna(method='ffill', inplace=True)\n",
    "df_resultado['LITERAL DE RETORNO HEADER'].fillna(method='ffill', inplace=True)\n",
    "df_resultado['LITERAL DE SERVIÇO HEADER'].fillna(method='ffill', inplace=True)\n",
    "df_resultado['AGÊNCIA HEADER'].fillna(method='ffill', inplace=True)\n",
    "df_resultado['CONTA HEADER'].fillna(method='ffill', inplace=True)\n",
    "df_resultado['DAC HEADER'].fillna(method='ffill', inplace=True)\n",
    "df_resultado['NOME DA EMPRESA HEADER'].fillna(method='ffill', inplace=True)\n",
    "df_resultado['CODIGO DO BANCO HEADER'].fillna(method='ffill', inplace=True)\n",
    "df_resultado['NOME DO BANCO HEADER'].fillna(method='ffill', inplace=True)\n",
    "df_resultado['DATA DE GERAÇÃO HEADER'].fillna(method='ffill', inplace=True)\n",
    "df_resultado['NUMERO SEQUENCIAL HEADER'].fillna(method='ffill', inplace=True)\n",
    "df_resultado['DENSIDADE'].fillna(method='ffill', inplace=True)\n",
    "df_resultado['UNIDADE DE DENSID'].fillna(method='ffill', inplace=True)\n",
    "df_resultado['Nº SEQ. ARQUIVO RET'].fillna(method='ffill', inplace=True)\n",
    "\n",
    "\n",
    "\n",
    "\n",
    " "
   ]
  },
  {
   "cell_type": "code",
   "execution_count": 19,
   "id": "8af73cfc",
   "metadata": {},
   "outputs": [],
   "source": [
    "df_resultado = df_resultado.replace({pd.NA: None, pd.NaT: None})"
   ]
  },
  {
   "cell_type": "code",
   "execution_count": null,
   "id": "7b237201",
   "metadata": {},
   "outputs": [],
   "source": []
  },
  {
   "cell_type": "markdown",
   "id": "68b0d718",
   "metadata": {},
   "source": [
    "# TRAILER"
   ]
  },
  {
   "cell_type": "code",
   "execution_count": 20,
   "id": "e6b9a57a",
   "metadata": {},
   "outputs": [
    {
     "name": "stdout",
     "output_type": "stream",
     "text": [
      "{'TIPO DE REGISTRO TRAILER': '9', 'CÓDIGO DE RETORNO TRAILER': '2', 'CÓDIGO DE SERVIÇO TRAILER': '01', 'CÓDIGO DO BANCO TRAILER': '341', 'QTDE. DE TÍTULOS TRAILER': '00000000', 'VALOR TOTAL TRAILER': '00000000000000', 'AVISO BANCÁRIO TRAILER': '00000000000000000', 'CONTROLE DO ARQUIVO TRAILER': '03050', 'QTDE DE DETALHES TRAILER': '00000007', 'VLR TOTAL INFORMADO TRAILER': '00000002481282', 'NÚMERO SEQUENCIAL TRAILER': '000009'}\n"
     ]
    }
   ],
   "source": [
    "\n",
    "\n",
    "# Filtrar apenas os arquivos que têm a extensão .REM\n",
    "arquivos_rem = [arquivo for arquivo in arquivos if arquivo.endswith('.REM')]\n",
    "\n",
    "# Encontre o arquivo REM mais recente com base na data de modificação\n",
    "if arquivos_rem:\n",
    "    caminho_arquivo_rem = max(arquivos_rem, key=lambda arquivo: os.path.getmtime(os.path.join(pasta, arquivo)))\n",
    "    \n",
    "    # Crie o caminho completo para o arquivo REM mais recente\n",
    "    cnab = os.path.join(pasta, caminho_arquivo_rem)\n",
    "\n",
    "# Defina o caminho para o arquivo CNAB do Santander\n",
    "arquivo_cnab =  cnab\n",
    "\n",
    "# Crie uma lista para armazenar os registros lidos\n",
    "cabecario = []\n",
    "\n",
    "with open(novo_caminho_arquivo, 'r') as arquivo:\n",
    "    # Leia cada linha do arquivo\n",
    "    linhas = arquivo.readlines()\n",
    "\n",
    "    for linha in linhas[-1:]:    # Faça algo com cada linha do arquivo, por exemplo, imprima-a\n",
    "        campo1 = linha[0:1]\n",
    "        campo2 = linha[1:2]\n",
    "        campo3 = linha[2:4]        \n",
    "        campo4 = linha[4:7]    \n",
    "        campo5 = linha[57:65]   \n",
    "        campo6 = linha[25:39] \n",
    "        campo7 = linha[70:87] \n",
    "        campo8 = linha[207:212]  \n",
    "        campo9 = linha[212:220] \n",
    "        campo10 = linha[220:234] \n",
    "        campo11 = linha[394:400]           \n",
    "  \n",
    "\n",
    "\n",
    "        registro = {\n",
    "                'TIPO DE REGISTRO TRAILER': campo1,\n",
    "                'CÓDIGO DE RETORNO TRAILER': campo2,   \n",
    "                'CÓDIGO DE SERVIÇO TRAILER': campo3,     \n",
    "                 'CÓDIGO DO BANCO TRAILER': campo4,     \n",
    "                 'QTDE. DE TÍTULOS TRAILER': campo5,   \n",
    "                 'VALOR TOTAL TRAILER': campo6,             \n",
    "                  'AVISO BANCÁRIO TRAILER': campo7,             \n",
    "                  'CONTROLE DO ARQUIVO TRAILER': campo8,             \n",
    "                  'QTDE DE DETALHES TRAILER': campo9,             \n",
    "                  'VLR TOTAL INFORMADO TRAILER': campo10,             \n",
    "                  'NÚMERO SEQUENCIAL TRAILER': campo11,             \n",
    "\n",
    "            \n",
    "            \n",
    "            \n",
    "\n",
    " }\n",
    "        \n",
    "        cabecario.append(registro)\n",
    "\n",
    "for registro in cabecario:\n",
    "    print(registro)"
   ]
  },
  {
   "cell_type": "code",
   "execution_count": 21,
   "id": "6e09c07e",
   "metadata": {},
   "outputs": [],
   "source": [
    "trailer = pd.DataFrame.from_dict(cabecario)\n",
    "df_resultado = pd.concat([df_resultado, trailer], axis=1)\n",
    "df_resultado = df_resultado.replace({pd.NA: None, pd.NaT: None})"
   ]
  },
  {
   "cell_type": "code",
   "execution_count": 22,
   "id": "08981929",
   "metadata": {},
   "outputs": [],
   "source": [
    "\n",
    "df_resultado['TIPO DE REGISTRO TRAILER'].fillna(method='ffill', inplace=True)\n",
    "df_resultado['CÓDIGO DE RETORNO TRAILER'].fillna(method='ffill', inplace=True)\n",
    "df_resultado['CÓDIGO DE SERVIÇO TRAILER'].fillna(method='ffill', inplace=True)\n",
    "df_resultado['CÓDIGO DO BANCO TRAILER'].fillna(method='ffill', inplace=True)\n",
    "df_resultado['QTDE. DE TÍTULOS TRAILER'].fillna(method='ffill', inplace=True)\n",
    "df_resultado['VALOR TOTAL TRAILER'].fillna(method='ffill', inplace=True)\n",
    "df_resultado['AVISO BANCÁRIO TRAILER'].fillna(method='ffill', inplace=True)\n",
    "df_resultado['CONTROLE DO ARQUIVO TRAILER'].fillna(method='ffill', inplace=True)\n",
    "df_resultado['QTDE DE DETALHES TRAILER'].fillna(method='ffill', inplace=True)\n",
    "df_resultado['VLR TOTAL INFORMADO TRAILER'].fillna(method='ffill', inplace=True)\n",
    "df_resultado['NÚMERO SEQUENCIAL TRAILER'].fillna(method='ffill', inplace=True)\n",
    "\n",
    "df_resultado = df_resultado.reset_index()"
   ]
  },
  {
   "cell_type": "code",
   "execution_count": 23,
   "id": "88595f77",
   "metadata": {},
   "outputs": [],
   "source": [
    "#df_resultado"
   ]
  },
  {
   "cell_type": "code",
   "execution_count": 24,
   "id": "021d80fc",
   "metadata": {},
   "outputs": [
    {
     "name": "stderr",
     "output_type": "stream",
     "text": [
      "C:\\Users\\elean\\AppData\\Local\\Temp\\ipykernel_8184\\3842004897.py:1: UserWarning: Could not infer format, so each element will be parsed individually, falling back to `dateutil`. To ensure parsing is consistent and as-expected, please specify a format.\n",
      "  df_resultado['DATA DE OCORRÊNCIA']= pd.to_datetime(df_resultado['DATA DE GERAÇÃO HEADER'])\n"
     ]
    }
   ],
   "source": [
    "df_resultado['DATA DE OCORRÊNCIA']= pd.to_datetime(df_resultado['DATA DE GERAÇÃO HEADER'])\n",
    "df_resultado['DATA DE OCORRÊNCIA'] = df_resultado['DATA DE OCORRÊNCIA'].dt.strftime('%Y-%m-%d')"
   ]
  },
  {
   "cell_type": "code",
   "execution_count": 25,
   "id": "63581238",
   "metadata": {},
   "outputs": [],
   "source": [
    "df_resultado = df_resultado.drop(columns=['index'])"
   ]
  },
  {
   "cell_type": "code",
   "execution_count": null,
   "id": "2f4dbebc",
   "metadata": {},
   "outputs": [],
   "source": []
  },
  {
   "cell_type": "code",
   "execution_count": null,
   "id": "f5f736b0",
   "metadata": {},
   "outputs": [],
   "source": []
  },
  {
   "cell_type": "code",
   "execution_count": 26,
   "id": "79a91ec7",
   "metadata": {},
   "outputs": [
    {
     "name": "stdout",
     "output_type": "stream",
     "text": [
      "remessa salva no banco de dados!\n"
     ]
    }
   ],
   "source": [
    "import mysql.connector\n",
    "import pandas as pd\n",
    "\n",
    "# Seus dados de conexão\n",
    "mydb = mysql.connector.connect(\n",
    "    host='db_sabertrimed.mysql.dbaas.com.br',\n",
    "    user='db_sabertrimed',\n",
    "    password='s@BRtR1m3d',\n",
    "    database='db_sabertrimed',\n",
    ")\n",
    "\n",
    "\n",
    "# Função para inserir dados na tabela\n",
    "def inserir_dados(cursor, tabela, df_resultado):\n",
    "    for index, row in df_resultado.iterrows():\n",
    "        placeholders = ', '.join(['%s'] * len(row))\n",
    "        columns = ', '.join(f\"`{col}`\" for col in row.keys())\n",
    "        sql = f\"INSERT INTO {tabela} ({columns}) VALUES ({placeholders})\"\n",
    "        cursor.execute(sql, tuple(row))\n",
    "\n",
    "# Cria um cursor para executar consultas\n",
    "cursor = mydb.cursor()\n",
    "\n",
    "# Nome da tabela no banco de dados\n",
    "nome_tabela = 'retorno_itau'\n",
    "\n",
    "# Insere os dados na tabela\n",
    "inserir_dados(cursor, nome_tabela, df_resultado)\n",
    "\n",
    "# Commit para salvar as alterações\n",
    "mydb.commit()\n",
    "\n",
    "# Fecha o cursor e a conexão\n",
    "cursor.close()\n",
    "mydb.close()\n",
    "\n",
    "print(\"remessa salva no banco de dados!\")"
   ]
  },
  {
   "cell_type": "code",
   "execution_count": 27,
   "id": "b6b7e4f1",
   "metadata": {},
   "outputs": [
    {
     "name": "stdout",
     "output_type": "stream",
     "text": [
      "O arquivo foi movido para C:\\Users\\elean\\Desktop\\RETORNOS\\retorno_itau\\Processados\\2024\\lido\n"
     ]
    }
   ],
   "source": [
    "import shutil\n",
    "\n",
    "# Caminho do arquivo CNAB\n",
    "\n",
    "# Pasta de destino\n",
    "pasta_destino = r'C:\\Users\\elean\\Desktop\\RETORNOS\\retorno_itau\\Processados\\2024\\lido'\n",
    "\n",
    "# Movendo o arquivo\n",
    "shutil.move(novo_caminho_arquivo, pasta_destino)\n",
    "print(f'O arquivo foi movido para {pasta_destino}')\n"
   ]
  },
  {
   "cell_type": "code",
   "execution_count": null,
   "id": "f13032ad",
   "metadata": {},
   "outputs": [],
   "source": []
  }
 ],
 "metadata": {
  "kernelspec": {
   "display_name": "Python 3 (ipykernel)",
   "language": "python",
   "name": "python3"
  },
  "language_info": {
   "codemirror_mode": {
    "name": "ipython",
    "version": 3
   },
   "file_extension": ".py",
   "mimetype": "text/x-python",
   "name": "python",
   "nbconvert_exporter": "python",
   "pygments_lexer": "ipython3",
   "version": "3.11.5"
  }
 },
 "nbformat": 4,
 "nbformat_minor": 5
}
