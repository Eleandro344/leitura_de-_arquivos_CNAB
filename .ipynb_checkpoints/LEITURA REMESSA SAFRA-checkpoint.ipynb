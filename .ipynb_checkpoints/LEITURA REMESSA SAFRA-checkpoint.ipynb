{
 "cells": [
  {
   "cell_type": "code",
   "execution_count": 1,
   "id": "8f19eafb",
   "metadata": {},
   "outputs": [
    {
     "ename": "NameError",
     "evalue": "name 'cnab' is not defined",
     "output_type": "error",
     "traceback": [
      "\u001b[1;31m---------------------------------------------------------------------------\u001b[0m",
      "\u001b[1;31mNameError\u001b[0m                                 Traceback (most recent call last)",
      "Cell \u001b[1;32mIn[1], line 21\u001b[0m\n\u001b[0;32m     18\u001b[0m     cnab \u001b[38;5;241m=\u001b[39m os\u001b[38;5;241m.\u001b[39mpath\u001b[38;5;241m.\u001b[39mjoin(pasta, caminho_arquivo_rem)\n\u001b[0;32m     20\u001b[0m \u001b[38;5;66;03m# Defina o caminho para o arquivo CNAB do Santander\u001b[39;00m\n\u001b[1;32m---> 21\u001b[0m arquivo_cnab \u001b[38;5;241m=\u001b[39m  cnab\n\u001b[0;32m     23\u001b[0m \u001b[38;5;66;03m# Crie uma lista para armazenar os registros lidos\u001b[39;00m\n\u001b[0;32m     24\u001b[0m cabecario \u001b[38;5;241m=\u001b[39m []\n",
      "\u001b[1;31mNameError\u001b[0m: name 'cnab' is not defined"
     ]
    }
   ],
   "source": [
    "#ler o corpo da Remessa\n",
    "\n",
    "import os\n",
    "# Diretório onde estão os arquivos REM\n",
    "pasta =  'C:/Users/elean/Desktop/BANCOS/safra'\n",
    "#C:\\Users\\elean\\Desktop\\BANCOS\n",
    "# Liste todos os arquivos na pasta\n",
    "arquivos = os.listdir(pasta)\n",
    "\n",
    "# Filtrar apenas os arquivos que têm a extensão .REM\n",
    "arquivos_rem = [arquivo for arquivo in arquivos if arquivo.endswith('.REM')]\n",
    "\n",
    "# Encontre o arquivo REM mais recente com base na data de modificação\n",
    "if arquivos_rem:\n",
    "    caminho_arquivo_rem = max(arquivos_rem, key=lambda arquivo: os.path.getmtime(os.path.join(pasta, arquivo)))\n",
    "    \n",
    "    # Crie o caminho completo para o arquivo REM mais recente\n",
    "    cnab = os.path.join(pasta, caminho_arquivo_rem)\n",
    "\n",
    "# Defina o caminho para o arquivo CNAB do Santander\n",
    "arquivo_cnab =  cnab\n",
    "\n",
    "# Crie uma lista para armazenar os registros lidos\n",
    "cabecario = []\n",
    "\n",
    "with open(arquivo_cnab, 'r') as arquivo:\n",
    "    # Leia cada linha do arquivo\n",
    "    linhas = arquivo.readlines()\n",
    "\n",
    "    for linha in linhas[1:]:    # Faça algo com cada linha do arquivo, por exemplo, imprima-a\n",
    "        campo1 = linha[0:1]\n",
    "        campo2 = linha[1:3]        \n",
    "        campo3 = linha[3:17]        \n",
    "        campo4 = linha[17:31]        \n",
    "        campo5 = linha[62:71]        \n",
    "        campo6 = linha[101:102]        \n",
    "        campo7 = linha[105:107]        \n",
    "        campo8 = linha[107:108]        \n",
    "        campo9 = linha[108:110]        \n",
    "        campo10 = linha[110:120]        \n",
    "        campo11 = linha[120:126]        \n",
    "        campo12 = linha[126:139]        \n",
    "        campo13 = linha[139:142]        \n",
    "        campo14 = linha[142:147]        \n",
    "        campo15 = linha[149:150]      \n",
    "        campo16 = linha[150:156]        \n",
    "        campo17 = linha[156:158]        \n",
    "        campo18 = linha[158:160]        \n",
    "        campo19 = linha[160:173]        \n",
    "        campo20 = linha[173:179]        \n",
    "        campo21 = linha[179:192]        \n",
    "        campo22 = linha[192:205]        \n",
    "        campo23 = linha[205:218]        \n",
    "        campo24 = linha[220:234]        \n",
    "        campo25 = linha[234:274]        \n",
    "        campo26 = linha[274:314]        \n",
    "        campo27 = linha[314:324]        \n",
    "        campo28 = linha[325:334]        \n",
    "        campo29 = linha[334:349]        \n",
    "        campo30 = linha[349:351]        \n",
    "        campo31 = linha[351:381]        \n",
    "        campo32 = linha[388:391]        \n",
    "        campo33 = linha[391:394]        \n",
    "        campo34 = linha[394:400]        \n",
    "        #campo8 = linha[107:108]        \n",
    "        #campo8 = linha[107:108]        \n",
    "        #campo8 = linha[107:108]        \n",
    "        #campo8 = linha[107:108]        \n",
    "        \n",
    "        \n",
    "\n",
    "        \n",
    "        \n",
    "        \n",
    "        \n",
    "\n",
    "        #campo32= linha[218:220]\n",
    "        #campo32= linha[218:220]\n",
    "        registro = {\n",
    "            'Código do Registro': campo1,\n",
    "            'cod. inscrição': campo2,             \n",
    "            'Numero da Inscrição': campo3,             \n",
    "            'Cod. Empresa': campo4,             \n",
    "            'Nosso Número': campo5,             \n",
    "            'Código lof': campo6,             \n",
    "            'dias protesto': campo7,             \n",
    "            'Cod. Carteira': campo8,             \n",
    "            'Cod. Ocorrência': campo9,             \n",
    "            'CODIGO DO DOC': campo10,             \n",
    "            'Vencimento': campo11, \n",
    "            'Valor Do Título': campo12,             \n",
    "            'Bco. Deposit.': campo13,             \n",
    "            'Ag. Depositária': campo14,  \n",
    "            'Cod. Aceite': campo15,  \n",
    "            'Data De Emissão Do Título': campo16,  \n",
    "            'Primeira Instrução De Cobrança': campo17,  \n",
    "            'Segunda Instrução De Cobrança': campo18,  \n",
    "            'Juros 1 Dia': campo19,  \n",
    "            'Data Limite Para Desconto': campo20,  \n",
    "            'Valor Do Desconto Concedido': campo21,  \n",
    "            'Valor lof': campo22,  \n",
    "            'Abatimento /Multa': campo23,  \n",
    "            'Número de Inscrição do Pagador': campo24,  \n",
    "            'Nome Do Pagador': campo25, \n",
    "            'Endereço Do Pagador': campo26,  \n",
    "            'Bairro Do Pagador': campo27,  \n",
    "            'Código De Endereçamento Postal Do Pagador': campo28,  \n",
    "            'Cidade Do Pagador': campo29,  \n",
    "            'Estado Do Pagador': campo30,  \n",
    "            'Nome do Sacador Avalista': campo31,  \n",
    "            'Banco Emitente do Boleto': campo32,  \n",
    "            'Numero Sequencial do Arquivo Remessa': campo33,  \n",
    "            'Número Sequenc. De Registro De Arquivo': campo34,  \n",
    "            #'Ag. Depositária': campo14,  \n",
    "            #'Ag. Depositária': campo14,  \n",
    "            #'Ag. Depositária': campo14,  \n",
    "            #'Ag. Depositária': campo14,  \n",
    "            #'Ag. Depositária': campo14,  \n",
    "            #'Ag. Depositária': campo14,  \n",
    "            \n",
    "            \n",
    " }\n",
    "        \n",
    "        cabecario.append(registro)\n",
    "\n",
    "for registro in cabecario:\n",
    "    print(registro)\n"
   ]
  },
  {
   "cell_type": "code",
   "execution_count": null,
   "id": "b0ff022f",
   "metadata": {},
   "outputs": [],
   "source": [
    "nome_arquivo = os.path.basename(arquivo_cnab)\n"
   ]
  },
  {
   "cell_type": "code",
   "execution_count": null,
   "id": "32b9e85f",
   "metadata": {},
   "outputs": [],
   "source": [
    "#ler o corpo da Remessa\n",
    "import pandas as pd\n",
    "import os\n",
    "\n"
   ]
  },
  {
   "cell_type": "code",
   "execution_count": null,
   "id": "4cf94325",
   "metadata": {},
   "outputs": [],
   "source": [
    "dados = pd.DataFrame.from_dict(cabecario)"
   ]
  },
  {
   "cell_type": "code",
   "execution_count": null,
   "id": "0a660a75",
   "metadata": {},
   "outputs": [],
   "source": [
    "dados = dados.drop(dados.index[-1])\n"
   ]
  },
  {
   "cell_type": "code",
   "execution_count": null,
   "id": "59a61eef",
   "metadata": {},
   "outputs": [],
   "source": [
    "dados['Nome do arquivo'] = nome_arquivo\n",
    "dados['Nome do arquivo'].fillna(method='ffill', inplace=True)"
   ]
  },
  {
   "cell_type": "code",
   "execution_count": null,
   "id": "40f1ae25",
   "metadata": {},
   "outputs": [],
   "source": [
    "dados['CODIGO DO DOC'] = dados['CODIGO DO DOC'].str.strip()\n",
    "\n",
    "dados['CODIGO DO DOC'] = dados['CODIGO DO DOC'].str.replace(' ', '')"
   ]
  },
  {
   "cell_type": "code",
   "execution_count": null,
   "id": "ff310465",
   "metadata": {},
   "outputs": [],
   "source": [
    "dados['Cod. Ocorrência'] = dados['Cod. Ocorrência'].str.strip()\n",
    "\n",
    "dados['Cod. Ocorrência'] = dados['Cod. Ocorrência'].str.replace(' ', '')"
   ]
  },
  {
   "cell_type": "code",
   "execution_count": null,
   "id": "0416a74b",
   "metadata": {},
   "outputs": [],
   "source": [
    "dados"
   ]
  },
  {
   "cell_type": "code",
   "execution_count": null,
   "id": "479db6d1",
   "metadata": {},
   "outputs": [],
   "source": [
    "dados['Valor Do Título'] =dados['Valor Do Título'].str.lstrip('0')\n",
    "dados['Valor Do Título'] = dados['Valor Do Título'].apply(lambda x: f'{str(x)[:-2]},{str(x)[-2:]}')\n",
    "dados['Juros 1 Dia'] =dados['Juros 1 Dia'].str.lstrip('0')\n",
    "dados['Juros 1 Dia'] = dados['Juros 1 Dia'].apply(lambda x: f'{str(x)[:-2]},{str(x)[-2:]}')\n",
    "dados['Valor Do Desconto Concedido'] =dados['Valor Do Desconto Concedido'].str.lstrip('0')\n",
    "dados['Valor Do Desconto Concedido'] =dados['Valor Do Desconto Concedido'].apply(lambda x: f'{str(x)[:-2]},{str(x)[-2:]}')\n",
    "dados['Abatimento /Multa'] =dados['Abatimento /Multa'].str.lstrip('0')\n",
    "dados['Abatimento /Multa'] =dados['Abatimento /Multa'].apply(lambda x: f'{str(x)[:-2]},{str(x)[-2:]}')"
   ]
  },
  {
   "cell_type": "code",
   "execution_count": null,
   "id": "6432f729",
   "metadata": {},
   "outputs": [],
   "source": [
    "dados.loc[dados['Cod. Ocorrência'] == '01', 'Cod. Ocorrência'] = \"REMESSA DE TÍTULOS\"\n",
    "dados.loc[dados['Cod. Ocorrência'] == '02', 'Cod. Ocorrência'] = \"PEDIDO DE BAIXA\"\n",
    "dados.loc[dados['Cod. Ocorrência'] == '04', 'Cod. Ocorrência'] = \"CONCESSÃO  DE ABATIMENTO\"\n",
    "dados.loc[dados['Cod. Ocorrência'] == '05', 'Cod. Ocorrência'] = \"CANCELAMENTO  DE ABATIMENTO CONCEDIDO\"\n",
    "dados.loc[dados['Cod. Ocorrência'] == '06', 'Cod. Ocorrência'] = \"ALTERAÇÃO  DE VENCIMENTO\"\n",
    "dados.loc[dados['Cod. Ocorrência'] == '08', 'Cod. Ocorrência'] = \"ALTERAÇÃO DE SEU NÚMERO\"\n",
    "dados.loc[dados['Cod. Ocorrência'] == '09', 'Cod. Ocorrência'] = \"PEDIDO DE PROTESTO\"\n",
    "dados.loc[dados['Cod. Ocorrência'] == '10', 'Cod. Ocorrência'] = \"NÃO PROTESTAR\"\n",
    "dados.loc[dados['Cod. Ocorrência'] == '11', 'Cod. Ocorrência'] = \"NÃO COBRAR JUROS DE MORA\"\n",
    "dados.loc[dados['Cod. Ocorrência'] == '16', 'Cod. Ocorrência'] = \"COBRAR JUROS DE MORA\"\n",
    "dados.loc[dados['Cod. Ocorrência'] == '31', 'Cod. Ocorrência'] = \"ALTERAÇÃO  DO VALOR DO TÍTULO\"\n",
    "dados.loc[dados['Cod. Ocorrência'] == '90', 'Cod. Ocorrência'] = \"NEGATIVAR\"\n",
    "dados.loc[dados['Cod. Ocorrência'] == '91', 'Cod. Ocorrência'] = \"BAIXA DE NEGATIVAÇÃO\"\n",
    "dados.loc[dados['Cod. Ocorrência'] == '92', 'Cod. Ocorrência'] = \"NÃO NEGATIVAR AUTOMATICAMENTE\"\n",
    "#dados.loc[dados['Cod. Ocorrência'] == '02', 'Cod. Ocorrência'] = \"CANCELAMENTO  DE ABATIMENTO CONCEDIDO\"\n",
    "#dados.loc[dados['Cod. Ocorrência'] == '02', 'Cod. Ocorrência'] = \"CANCELAMENTO  DE ABATIMENTO CONCEDIDO\"\n",
    "#dados.loc[dados['Cod. Ocorrência'] == '02', 'Cod. Ocorrência'] = \"CANCELAMENTO  DE ABATIMENTO CONCEDIDO\"\n",
    "\n",
    "dados.loc[dados['Cod. Carteira'] == '1', 'Cod. Carteira'] = \"COBRANÇA SIMPLES\"\n",
    "dados.loc[dados['Cod. Carteira'] == '2', 'Cod. Carteira'] = \"COBRANÇA VINCULADA\""
   ]
  },
  {
   "cell_type": "code",
   "execution_count": null,
   "id": "edae4fcc",
   "metadata": {},
   "outputs": [],
   "source": [
    "dados['Vencimento'] = dados['Vencimento'].astype(str).str.zfill(6)\n",
    "dados['Vencimento'] = dados['Vencimento'].apply(lambda x: f\"{x[:2]}/{x[2:4]}/{x[4:]}\")\n",
    "dados['Data De Emissão Do Título'] = dados['Data De Emissão Do Título'].astype(str).str.zfill(6)\n",
    "dados['Data De Emissão Do Título'] = dados['Data De Emissão Do Título'].apply(lambda x: f\"{x[:2]}/{x[2:4]}/{x[4:]}\")"
   ]
  },
  {
   "cell_type": "code",
   "execution_count": null,
   "id": "b4740b93",
   "metadata": {},
   "outputs": [],
   "source": [
    "df_dados = dados"
   ]
  },
  {
   "cell_type": "markdown",
   "id": "aec5cc71",
   "metadata": {},
   "source": [
    "# cabeçario"
   ]
  },
  {
   "cell_type": "code",
   "execution_count": null,
   "id": "f48421dd",
   "metadata": {},
   "outputs": [],
   "source": [
    "\n",
    "\n",
    "# Filtrar apenas os arquivos que têm a extensão .REM\n",
    "arquivos_rem = [arquivo for arquivo in arquivos if arquivo.endswith('.REM')]\n",
    "\n",
    "# Encontre o arquivo REM mais recente com base na data de modificação\n",
    "if arquivos_rem:\n",
    "    caminho_arquivo_rem = max(arquivos_rem, key=lambda arquivo: os.path.getmtime(os.path.join(pasta, arquivo)))\n",
    "    \n",
    "    # Crie o caminho completo para o arquivo REM mais recente\n",
    "    cnab = os.path.join(pasta, caminho_arquivo_rem)\n",
    "\n",
    "# Defina o caminho para o arquivo CNAB do Santander\n",
    "arquivo_cnab =  cnab\n",
    "\n",
    "# Crie uma lista para armazenar os registros lidos\n",
    "cabecario = []\n",
    "\n",
    "with open(arquivo_cnab, 'r') as arquivo:\n",
    "    # Leia cada linha do arquivo\n",
    "    linhas = arquivo.readlines()\n",
    "\n",
    "    for linha in linhas[0:1]:    # Faça algo com cada linha do arquivo, por exemplo, imprima-a\n",
    "        campo1 = linha[0:1]\n",
    "        campo2 = linha[1:2]\n",
    "        campo3 = linha[2:9]        \n",
    "        campo4 = linha[9:11]    \n",
    "        campo5 = linha[11:26]   \n",
    "        campo6 = linha[26:46] \n",
    "        campo7 = linha[46:76] \n",
    "        campo8 = linha[76:79] \n",
    "        campo9 = linha[79:94] \n",
    "        campo10 = linha[94:100] \n",
    "        campo11 = linha[391:394]           \n",
    "        campo12 = linha[394:400] \n",
    "\n",
    "        registro = {\n",
    "            'Código do Registro header': campo1,\n",
    "            'Código da Remessa': campo2,\n",
    "            'Literal Remessa': campo3,\n",
    "            'Código de Serviço': campo4,\n",
    "             'Literal Serviço': campo5,\n",
    "            'Código de Transmissão': campo6,\n",
    "            'Nome da Empresa BENEFICIÁRIO': campo7,\n",
    "            'Código do Banco': campo8,      \n",
    "            'Nome do Banco': campo9,     \n",
    "            'Data da Gravação do Arquivo': campo10,            \n",
    "            'Nº Sequencial do Arquivo': campo11,        \n",
    "            'Nº Sequencial do Registro': campo12,  \n",
    " }\n",
    "        \n",
    "        cabecario.append(registro)\n",
    "\n",
    "for registro in cabecario:\n",
    "    print(registro)"
   ]
  },
  {
   "cell_type": "code",
   "execution_count": null,
   "id": "f5f2ae2a",
   "metadata": {},
   "outputs": [],
   "source": [
    "df_cabecario = pd.DataFrame.from_dict(cabecario)"
   ]
  },
  {
   "cell_type": "code",
   "execution_count": null,
   "id": "44260b5c",
   "metadata": {},
   "outputs": [],
   "source": [
    "df_resultado = pd.concat([df_dados, df_cabecario], axis=1)"
   ]
  },
  {
   "cell_type": "code",
   "execution_count": null,
   "id": "2b43da4e",
   "metadata": {},
   "outputs": [],
   "source": [
    "df_resultado.replace('None', pd.NA, inplace=True)\n",
    "\n",
    "# Preencher os valores nulos na coluna 'Código de Serviço' com os valores da linha anterior\n",
    "df_resultado['Código do Registro header'].fillna(method='ffill', inplace=True)\n",
    "df_resultado['Código da Remessa'].fillna(method='ffill', inplace=True)\n",
    "df_resultado['Literal Remessa'].fillna(method='ffill', inplace=True)\n",
    "df_resultado['Código de Serviço'].fillna(method='ffill', inplace=True)\n",
    "df_resultado['Literal Serviço'].fillna(method='ffill', inplace=True)\n",
    "df_resultado['Código de Transmissão'].fillna(method='ffill', inplace=True)\n",
    "df_resultado['Nome da Empresa BENEFICIÁRIO'].fillna(method='ffill', inplace=True)\n",
    "df_resultado['Código do Banco'].fillna(method='ffill', inplace=True)\n",
    "df_resultado['Nome do Banco'].fillna(method='ffill', inplace=True)\n",
    "df_resultado['Data da Gravação do Arquivo'].fillna(method='ffill', inplace=True)\n",
    "df_resultado['Nº Sequencial do Arquivo'].fillna(method='ffill', inplace=True)\n",
    "df_resultado['Nº Sequencial do Registro'].fillna(method='ffill', inplace=True)"
   ]
  },
  {
   "cell_type": "code",
   "execution_count": null,
   "id": "843455e3",
   "metadata": {},
   "outputs": [],
   "source": [
    "df_resultado"
   ]
  },
  {
   "cell_type": "code",
   "execution_count": null,
   "id": "6bb4f37d",
   "metadata": {},
   "outputs": [],
   "source": [
    "df_resultado = df_resultado.replace({pd.NA: None, pd.NaT: None})"
   ]
  },
  {
   "cell_type": "code",
   "execution_count": null,
   "id": "6907ea52",
   "metadata": {},
   "outputs": [],
   "source": [
    "\n",
    "\n",
    "# Filtrar apenas os arquivos que têm a extensão .REM\n",
    "arquivos_rem = [arquivo for arquivo in arquivos if arquivo.endswith('.REM')]\n",
    "\n",
    "# Encontre o arquivo REM mais recente com base na data de modificação\n",
    "if arquivos_rem:\n",
    "    caminho_arquivo_rem = max(arquivos_rem, key=lambda arquivo: os.path.getmtime(os.path.join(pasta, arquivo)))\n",
    "    \n",
    "    # Crie o caminho completo para o arquivo REM mais recente\n",
    "    cnab = os.path.join(pasta, caminho_arquivo_rem)\n",
    "\n",
    "# Defina o caminho para o arquivo CNAB do Santander\n",
    "arquivo_cnab =  cnab\n",
    "\n",
    "# Crie uma lista para armazenar os registros lidos\n",
    "cabecario = []\n",
    "\n",
    "with open(arquivo_cnab, 'r') as arquivo:\n",
    "    # Leia cada linha do arquivo\n",
    "    linhas = arquivo.readlines()\n",
    "\n",
    "    for linha in linhas[-1:]:    # Faça algo com cada linha do arquivo, por exemplo, imprima-a\n",
    "        campo1 = linha[0:1]\n",
    "        campo2 = linha[1:7]\n",
    "        campo3 = linha[7:20]\n",
    "        campo4 = linha[394:400]\n",
    "        #campo1 = linha[0:1]\n",
    "        \n",
    "\n",
    "\n",
    "        registro = {\n",
    "            'Código do Registro trailer': campo1,\n",
    "            'Quantidade de registro no arquivo': campo2,\n",
    "            'Valor Total dos boletos': campo3,\n",
    "            'Número sequencial de registro no arquivo trailer': campo4,\n",
    "            #'Código do Registro header': campo1,\n",
    "            #'Código do Registro header': campo1,\n",
    "            \n",
    "            \n",
    "            \n",
    "            \n",
    "\n",
    " }\n",
    "        \n",
    "        cabecario.append(registro)\n",
    "\n",
    "for registro in cabecario:\n",
    "    print(registro)"
   ]
  },
  {
   "cell_type": "code",
   "execution_count": null,
   "id": "e4ca7821",
   "metadata": {},
   "outputs": [],
   "source": [
    "trailer = pd.DataFrame.from_dict(cabecario)\n",
    "df_resultado = pd.concat([df_resultado, trailer], axis=1)\n",
    "df_resultado = df_resultado.replace({pd.NA: None, pd.NaT: None})"
   ]
  },
  {
   "cell_type": "code",
   "execution_count": null,
   "id": "6597397d",
   "metadata": {},
   "outputs": [],
   "source": [
    "df_resultado['Valor Total dos boletos'] = df_resultado['Valor Total dos boletos'].str.lstrip('0')\n",
    "\n",
    "df_resultado['Código do Registro trailer'].fillna(method='ffill', inplace=True)\n",
    "df_resultado['Quantidade de registro no arquivo'].fillna(method='ffill', inplace=True)\n",
    "df_resultado['Valor Total dos boletos'].fillna(method='ffill', inplace=True)\n",
    "df_resultado['Número sequencial de registro no arquivo trailer'].fillna(method='ffill', inplace=True)\n",
    "df_resultado = df_resultado.reset_index()"
   ]
  },
  {
   "cell_type": "code",
   "execution_count": null,
   "id": "aa0bfd94",
   "metadata": {},
   "outputs": [],
   "source": [
    "df_resultado"
   ]
  },
  {
   "cell_type": "code",
   "execution_count": null,
   "id": "e66463e4",
   "metadata": {},
   "outputs": [],
   "source": [
    "df_resultado['Data da Gravação do Arquivo']= pd.to_datetime(df_resultado['Data da Gravação do Arquivo'])\n",
    "df_resultado['Data da Gravação do Arquivo'] = df_resultado['Data da Gravação do Arquivo'].dt.strftime('%Y-%m-%d')"
   ]
  },
  {
   "cell_type": "code",
   "execution_count": null,
   "id": "7c85bfca",
   "metadata": {},
   "outputs": [],
   "source": [
    "df_resultado = df_resultado.drop(columns=['index'])\n"
   ]
  },
  {
   "cell_type": "code",
   "execution_count": null,
   "id": "551e06a5",
   "metadata": {},
   "outputs": [],
   "source": [
    "import re\n",
    "\n",
    "df_resultado['CODIGO DO DOC'] = df_resultado['CODIGO DO DOC'].apply(lambda x: re.sub(\"[^0-9]\", \"\", str(x)))"
   ]
  },
  {
   "cell_type": "code",
   "execution_count": null,
   "id": "87355061",
   "metadata": {},
   "outputs": [],
   "source": [
    "import mysql.connector\n",
    "import pandas as pd\n",
    "\n",
    "# Seus dados de conexão\n",
    "mydb = mysql.connector.connect(\n",
    "    host='db_sabertrimed.mysql.dbaas.com.br',\n",
    "    user='db_sabertrimed',\n",
    "    password='s@BRtR1m3d',\n",
    "    database='db_sabertrimed',\n",
    ")\n",
    "\n",
    "\n",
    "# Função para inserir dados na tabela\n",
    "def inserir_dados(cursor, tabela, df_resultado):\n",
    "    for index, row in df_resultado.iterrows():\n",
    "        placeholders = ', '.join(['%s'] * len(row))\n",
    "        columns = ', '.join(f\"`{col}`\" for col in row.keys())\n",
    "        sql = f\"INSERT INTO {tabela} ({columns}) VALUES ({placeholders})\"\n",
    "        cursor.execute(sql, tuple(row))\n",
    "\n",
    "# Cria um cursor para executar consultas\n",
    "cursor = mydb.cursor()\n",
    "\n",
    "# Nome da tabela no banco de dados\n",
    "nome_tabela = 'remessa_safra'\n",
    "\n",
    "# Insere os dados na tabela\n",
    "inserir_dados(cursor, nome_tabela, df_resultado)\n",
    "\n",
    "# Commit para salvar as alterações\n",
    "mydb.commit()\n",
    "\n",
    "# Fecha o cursor e a conexão\n",
    "cursor.close()\n",
    "mydb.close()\n",
    "\n",
    "print(\"remessa salva no banco de dados!\")"
   ]
  },
  {
   "cell_type": "code",
   "execution_count": null,
   "id": "ae116a53",
   "metadata": {},
   "outputs": [],
   "source": [
    "import shutil\n",
    "pasta_destino = r'C:\\Users\\elean\\Desktop\\BANCOS\\safra\\lido'\n",
    "shutil.move(cnab, pasta_destino)\n",
    "print(f'O arquivo foi movido para {pasta_destino}')\n",
    "\n"
   ]
  },
  {
   "cell_type": "code",
   "execution_count": null,
   "id": "5e36cd96",
   "metadata": {},
   "outputs": [],
   "source": []
  },
  {
   "cell_type": "code",
   "execution_count": null,
   "id": "5b3b1a30",
   "metadata": {},
   "outputs": [],
   "source": []
  }
 ],
 "metadata": {
  "kernelspec": {
   "display_name": "Python 3 (ipykernel)",
   "language": "python",
   "name": "python3"
  },
  "language_info": {
   "codemirror_mode": {
    "name": "ipython",
    "version": 3
   },
   "file_extension": ".py",
   "mimetype": "text/x-python",
   "name": "python",
   "nbconvert_exporter": "python",
   "pygments_lexer": "ipython3",
   "version": "3.11.5"
  }
 },
 "nbformat": 4,
 "nbformat_minor": 5
}
