{
 "cells": [
  {
   "cell_type": "code",
   "execution_count": 1,
   "id": "5ade1759",
   "metadata": {
    "scrolled": false
   },
   "outputs": [],
   "source": [
    "#ler o corpo da Remessa\n",
    "\n",
    "import os\n",
    "pasta =  'C:/Users/elean/Desktop/BANCOS/itau'\n",
    "\n",
    "\n",
    "# Liste todos os arquivos na pasta\n",
    "arquivos = os.listdir(pasta)\n",
    "\n",
    "# Filtrar apenas os arquivos que têm a extensão .REM\n",
    "arquivos_rem = [arquivo for arquivo in arquivos if arquivo.endswith('.REM')]\n",
    "\n",
    "# Encontre o arquivo REM mais recente com base na data de modificação\n",
    "if arquivos_rem:\n",
    "    caminho_arquivo_rem = max(arquivos_rem, key=lambda arquivo: os.path.getmtime(os.path.join(pasta, arquivo)))\n",
    "    \n",
    "    # Crie o caminho completo para o arquivo REM mais recente\n",
    "    cnab = os.path.join(pasta, caminho_arquivo_rem)\n",
    "\n",
    "# Defina o caminho para o arquivo CNAB do Santander\n",
    "arquivo_cnab =  cnab\n",
    "\n",
    "# Crie uma lista para armazenar os registros lidos\n",
    "cabecario = []\n",
    "\n",
    "with open(arquivo_cnab, 'r') as arquivo:\n",
    "    # Leia cada linha do arquivo\n",
    "    linhas = arquivo.readlines()\n",
    "\n",
    "    for linha in linhas[1:]:      # Faça algo com cada linha do arquivo, por exemplo, imprima-a\n",
    "                campo1 = linha[0:1]\n",
    "                campo2 = linha[1:3]\n",
    "                campo3 = linha[3:17]\n",
    "                campo4 = linha[17:21]    \n",
    "                campo5 = linha[21:28]        \n",
    "                campo6 = linha[28:29]        \n",
    "                campo7 = linha[33:37]        \n",
    "                campo8 = linha[37:62]        \n",
    "                campo9 = linha[62:70]        \n",
    "                campo10 = linha[70:83]        \n",
    "                campo11 = linha[83:86]  \n",
    "                campo12 = linha[107:108]        \n",
    "                campo13 = linha[108:110]        \n",
    "                campo14 = linha[110:120]        \n",
    "                campo15 = linha[120:126]        \n",
    "                campo16 = linha[126:139]        \n",
    "                campo17 = linha[139:142]        \n",
    "                campo18 = linha[142:146]        \n",
    "                campo19 = linha[149:150]        \n",
    "                campo20 = linha[150:156]        \n",
    "                campo21 = linha[156:158]        \n",
    "                campo22 = linha[158:160]   \n",
    "                campo23 = linha[160:173]        \n",
    "                campo24 = linha[173:179]        \n",
    "                campo25 = linha[179:192]        \n",
    "                campo26 = linha[192:205]        \n",
    "                campo27 = linha[205:218]        \n",
    "                campo28 = linha[218:220]        \n",
    "                campo29 = linha[220:234]        \n",
    "                campo30 = linha[234:264]        \n",
    "                campo31 = linha[274:314]        \n",
    "                campo32 = linha[314:326]        \n",
    "                campo33 = linha[326:334]        \n",
    "                campo34 = linha[334:349]        \n",
    "                campo35 = linha[349:351]        \n",
    "                campo36 = linha[351:381]        \n",
    "                campo37 = linha[385:391]        \n",
    "                campo38 = linha[391:393]        \n",
    "                campo39 = linha[395:400]        \n",
    "        #         campo40 = linha[334:349]        \n",
    "        #         campo41 = linha[349:351]  \n",
    "        #         campo42 = linha[382:383]        \n",
    "        #         campo43 = linha[383:385]        \n",
    "        #         campo44 = linha[391:393]        \n",
    "        #         campo45 = linha[394:400]        \n",
    "                #campo41 = linha[349:351]        \n",
    "                #campo41 = linha[349:351]        \n",
    "                #campo41 = linha[349:351]        \n",
    "                #campo41 = linha[349:351]        \n",
    "                #campo41 = linha[349:351]        \n",
    "                #campo41 = linha[349:351]        \n",
    "                #campo41 = linha[349:351]        \n",
    "\n",
    "\n",
    "\n",
    "\n",
    "\n",
    "\n",
    "\n",
    "                #campo32= linha[218:220]\n",
    "                #campo32= linha[218:220]\n",
    "                registro = {\n",
    "                'Código do Registro': campo1,\n",
    "                 'CÓDIGO DE INSCRIÇÃO': campo2,   \n",
    "                 'Nº de inscrição do beneficiário': campo3,     \n",
    "                 'Código da agência beneficiário': campo4,     \n",
    "                 'Conta movimento beneficiário': campo5,   \n",
    "                 'DAC': campo6,             \n",
    "                 'INSTRUÇÃO/ALEGAÇÃO': campo7,             \n",
    "                 'IDENTIFICAÇÃO DO TÍTULO NA EMPRESA': campo8,             \n",
    "                 'NOSSO NÚMERO': campo9,             \n",
    "                 'QTDE DE MOEDA': campo10,             \n",
    "                 'Nº DA CARTEIRA': campo11,             \n",
    "                 'CARTEIRA': campo12,             \n",
    "                 'CÓD. DE OCORRÊNCIA': campo13,             \n",
    "                 'CODIGO DO DOC': campo14,             \n",
    "                 'VENCIMENTO': campo15,             \n",
    "                 'VALOR DO TÍTULO': campo16,             \n",
    "                 'CÓDIGO DO BANCO': campo17,             \n",
    "                 'AGÊNCIA COBRADORA': campo18,             \n",
    "                 'ACEITE': campo19,             \n",
    "                 'DATA DE EMISSÃO': campo20,            \n",
    "                 'INSTRUÇÃO 1': campo21,             \n",
    "                 'INSTRUÇÃO 2': campo22,             \n",
    "                 'JUROS DE 1 DIA': campo23,             \n",
    "                 'DESCONTO ATÉ': campo24,             \n",
    "                 'VALOR DO DESCONTO': campo25,             \n",
    "                 'VALOR DO IOF': campo26,             \n",
    "                 'ABATIMENTO': campo27,             \n",
    "                 'CÓDIGO DE INSCRIÇÃO': campo28,             \n",
    "                 'NÚMERO DE INSCRIÇÃO': campo29,             \n",
    "                 'NOME': campo30,             \n",
    "                 'LOGRADOURO': campo31,   \n",
    "                 'BAIRRO': campo32,             \n",
    "                 'CEP': campo33,             \n",
    "                 'CIDADE': campo34,             \n",
    "                 'ESTADO': campo35,             \n",
    "                 'SACADOR/AVALISTA': campo36,             \n",
    "                 'DATA DE MORA': campo37,             \n",
    "                 'PRAZO': campo38,             \n",
    "                 'NÚMERO SEQÜENCIAL': campo39,             \n",
    "    #             'Cidade do Pagador': campo40,             \n",
    "    #             'Unidade de Federação do Pagador': campo41,   \n",
    "    #             'Identificador do complemento': campo42,             \n",
    "    #             'Complemento': campo43,             \n",
    "    #             'Número de dias corridos para Protesto': campo44,             \n",
    "    #             'Número sequencial do registro no arquivo': campo45,             \n",
    "                #'Unidade de Federação do Pagador': campo41,             \n",
    "                #'Unidade de Federação do Pagador': campo41,             \n",
    "                #'Unidade de Federação do Pagador': campo41,             \n",
    "                #'Unidade de Federação do Pagador': campo41,             \n",
    "                #'Unidade de Federação do Pagador': campo41,             \n",
    "                #'Unidade de Federação do Pagador': campo41,             \n",
    "                #'Unidade de Federação do Pagador': campo41,             \n",
    "                #'Unidade de Federação do Pagador': campo41,             \n",
    "\n",
    "\n",
    "\n",
    "\n",
    "\n",
    " }\n",
    "        \n",
    "                cabecario.append(registro)\n",
    "\n",
    "# for registro in cabecario:\n",
    "#     print(registro)\n",
    "\n"
   ]
  },
  {
   "cell_type": "code",
   "execution_count": 2,
   "id": "96eec70a",
   "metadata": {},
   "outputs": [
    {
     "data": {
      "text/plain": [
       "'C:/Users/elean/Desktop/BANCOS/itau\\\\Rm121919.REM'"
      ]
     },
     "execution_count": 2,
     "metadata": {},
     "output_type": "execute_result"
    }
   ],
   "source": [
    "arquivo_cnab"
   ]
  },
  {
   "cell_type": "code",
   "execution_count": null,
   "id": "61e3a79a",
   "metadata": {},
   "outputs": [],
   "source": []
  },
  {
   "cell_type": "code",
   "execution_count": null,
   "id": "5e60e727",
   "metadata": {},
   "outputs": [],
   "source": []
  },
  {
   "cell_type": "code",
   "execution_count": 3,
   "id": "99f413cb",
   "metadata": {},
   "outputs": [
    {
     "data": {
      "text/plain": [
       "'Rm121919.REM'"
      ]
     },
     "execution_count": 3,
     "metadata": {},
     "output_type": "execute_result"
    }
   ],
   "source": [
    "nome_arquivo = os.path.basename(arquivo_cnab)\n",
    "nome_arquivo"
   ]
  },
  {
   "cell_type": "code",
   "execution_count": null,
   "id": "7c48a15f",
   "metadata": {},
   "outputs": [],
   "source": []
  },
  {
   "cell_type": "code",
   "execution_count": 4,
   "id": "7de8e1a0",
   "metadata": {},
   "outputs": [],
   "source": [
    "#ler o corpo da Remessa\n",
    "import pandas as pd\n",
    "import os\n",
    "\n"
   ]
  },
  {
   "cell_type": "code",
   "execution_count": 5,
   "id": "a4922ca3",
   "metadata": {},
   "outputs": [],
   "source": [
    "#dados.to_excel(r\"C:\\Users\\elean\\Desktop\\bancodedados\\testeitau.xlsx\")"
   ]
  },
  {
   "cell_type": "code",
   "execution_count": 6,
   "id": "6b52da06",
   "metadata": {},
   "outputs": [],
   "source": [
    "dados = pd.DataFrame.from_dict(cabecario)\n"
   ]
  },
  {
   "cell_type": "code",
   "execution_count": 7,
   "id": "2d738e03",
   "metadata": {},
   "outputs": [],
   "source": [
    "dados = dados.drop(dados.index[-1])\n"
   ]
  },
  {
   "cell_type": "code",
   "execution_count": 8,
   "id": "e0ebcc4a",
   "metadata": {},
   "outputs": [],
   "source": [
    "dados['Nome do arquivo'] = nome_arquivo\n",
    "dados['Nome do arquivo'].fillna(method='ffill', inplace=True)"
   ]
  },
  {
   "cell_type": "code",
   "execution_count": 9,
   "id": "96b06724",
   "metadata": {},
   "outputs": [],
   "source": [
    "dados['CODIGO DO DOC'] = dados['CODIGO DO DOC'].str.strip()\n",
    "\n",
    "dados['CODIGO DO DOC'] = dados['CODIGO DO DOC'].str.replace(' ', '')"
   ]
  },
  {
   "cell_type": "code",
   "execution_count": 10,
   "id": "1d6a4a90",
   "metadata": {},
   "outputs": [],
   "source": [
    "dados['CÓD. DE OCORRÊNCIA'] = dados['CÓD. DE OCORRÊNCIA'].str.strip()\n",
    "\n",
    "dados['CÓD. DE OCORRÊNCIA'] = dados['CÓD. DE OCORRÊNCIA'].str.replace(' ', '')"
   ]
  },
  {
   "cell_type": "code",
   "execution_count": 11,
   "id": "bd7d2063",
   "metadata": {},
   "outputs": [],
   "source": [
    "dados['VALOR DO TÍTULO'] =dados['VALOR DO TÍTULO'].str.lstrip('0')\n",
    "dados['VALOR DO TÍTULO'] = dados['VALOR DO TÍTULO'].apply(lambda x: f'{str(x)[:-2]},{str(x)[-2:]}')\n",
    "dados['JUROS DE 1 DIA'] =dados['JUROS DE 1 DIA'].str.lstrip('0')\n",
    "dados['JUROS DE 1 DIA'] = dados['JUROS DE 1 DIA'].apply(lambda x: f'{str(x)[:-2]},{str(x)[-2:]}')\n",
    "dados['VALOR DO DESCONTO'] =dados['VALOR DO DESCONTO'].str.lstrip('0')\n",
    "dados['VALOR DO DESCONTO'] = dados['VALOR DO DESCONTO'].apply(lambda x: f'{str(x)[:-2]},{str(x)[-2:]}')\n",
    "dados['VALOR DO IOF'] =dados['VALOR DO IOF'].str.lstrip('0')\n",
    "dados['VALOR DO IOF'] = dados['VALOR DO IOF'].apply(lambda x: f'{str(x)[:-2]},{str(x)[-2:]}')"
   ]
  },
  {
   "cell_type": "code",
   "execution_count": 12,
   "id": "f908c813",
   "metadata": {},
   "outputs": [],
   "source": [
    "dados.loc[dados['CÓD. DE OCORRÊNCIA'] == '01', 'CÓD. DE OCORRÊNCIA'] = \"REMESSA DE TÍTULOS\"\n",
    "dados.loc[dados['CÓD. DE OCORRÊNCIA'] == '02', 'CÓD. DE OCORRÊNCIA'] = \"PEDIDO DE BAIXA\"\n",
    "dados.loc[dados['CÓD. DE OCORRÊNCIA'] == '04', 'CÓD. DE OCORRÊNCIA'] = \"CONCESSÃO DE ABATIMENTO\"\n",
    "dados.loc[dados['CÓD. DE OCORRÊNCIA'] == '05', 'CÓD. DE OCORRÊNCIA'] = \"CANCELAMENTO DE ABATIMENTO\"\n",
    "dados.loc[dados['CÓD. DE OCORRÊNCIA'] == '06', 'CÓD. DE OCORRÊNCIA'] = \"ALTERAÇÃO DO VENCIMENTO\"\n",
    "dados.loc[dados['CÓD. DE OCORRÊNCIA'] == '07', 'CÓD. DE OCORRÊNCIA'] = \"ALTERAÇÃO DO USO DA EMPRESA\"\n",
    "dados.loc[dados['CÓD. DE OCORRÊNCIA'] == '08', 'CÓD. DE OCORRÊNCIA'] = \"ALTERAÇÃO DO SEU NÚMERO\"\n",
    "dados.loc[dados['CÓD. DE OCORRÊNCIA'] == '09', 'CÓD. DE OCORRÊNCIA'] = \"PROTESTAR\"\n",
    "dados.loc[dados['CÓD. DE OCORRÊNCIA'] == '10', 'CÓD. DE OCORRÊNCIA'] = \"NÃO PROTESTAR\"\n",
    "dados.loc[dados['CÓD. DE OCORRÊNCIA'] == '11', 'CÓD. DE OCORRÊNCIA'] = \"PROTESTO PARA FINS FALIMENTARES\"\n",
    "dados.loc[dados['CÓD. DE OCORRÊNCIA'] == '18', 'CÓD. DE OCORRÊNCIA'] = \"SUSTAR O PROTESTO\"\n",
    "dados.loc[dados['CÓD. DE OCORRÊNCIA'] == '30', 'CÓD. DE OCORRÊNCIA'] = \"EXCLUSÃO DE SACADOR AVALISTA\"\n",
    "dados.loc[dados['CÓD. DE OCORRÊNCIA'] == '31', 'CÓD. DE OCORRÊNCIA'] = \"ALTERAÇÃO DE OUTROS DADOS\"\n",
    "dados.loc[dados['CÓD. DE OCORRÊNCIA'] == '34', 'CÓD. DE OCORRÊNCIA'] = \"BAIXA POR TER SIDO PAGO DIRETAMENTE AO BENEFICIÁRIO\"\n",
    "dados.loc[dados['CÓD. DE OCORRÊNCIA'] == '35', 'CÓD. DE OCORRÊNCIA'] = \"CANCELAMENTO DE INSTRUÇÃO\"\n",
    "dados.loc[dados['CÓD. DE OCORRÊNCIA'] == '37', 'CÓD. DE OCORRÊNCIA'] = \"ALTERAÇÃO DO VENCIMENTO E SUSTAR PROTESTO\"\n",
    "dados.loc[dados['CÓD. DE OCORRÊNCIA'] == '38', 'CÓD. DE OCORRÊNCIA'] = \"BENEFICIÁRIO NÃO CONCORDA COM ALEGAÇÃO DO PAGADOR\"\n",
    "dados.loc[dados['CÓD. DE OCORRÊNCIA'] == '47', 'CÓD. DE OCORRÊNCIA'] = \"BENEFICIÁRIO SOLICITA DISPENSA DE JUROS\"\n",
    "dados.loc[dados['CÓD. DE OCORRÊNCIA'] == '49', 'CÓD. DE OCORRÊNCIA'] = \"ALTERAÇÃO DE DADOS EXTRAS\"\n",
    "dados.loc[dados['CÓD. DE OCORRÊNCIA'] == '66', 'CÓD. DE OCORRÊNCIA'] = \"ENTRADA EM NEGATIVAÇÃO EXPRESSA\"\n",
    "dados.loc[dados['CÓD. DE OCORRÊNCIA'] == '67', 'CÓD. DE OCORRÊNCIA'] = \"NÃO NEGATIVAR\"\n",
    "dados.loc[dados['CÓD. DE OCORRÊNCIA'] == '67', 'CÓD. DE OCORRÊNCIA'] = \"EXCLUIR NEGATIVAÇÃO EXPRESSA\"\n",
    "dados.loc[dados['CÓD. DE OCORRÊNCIA'] == '67', 'CÓD. DE OCORRÊNCIA'] = \"CANCELAR NEGATIVAÇÃO EXPRESSA\"\n",
    "dados.loc[dados['CÓD. DE OCORRÊNCIA'] == '67', 'CÓD. DE OCORRÊNCIA'] = \"DESCONTAR TÍTULOS ENCAMINHADOS NO DIA\"\n"
   ]
  },
  {
   "cell_type": "code",
   "execution_count": 13,
   "id": "46ed142b",
   "metadata": {},
   "outputs": [],
   "source": [
    "dados['VENCIMENTO'] = dados['VENCIMENTO'].astype(str).str.zfill(6)\n",
    "dados['VENCIMENTO'] = dados['VENCIMENTO'].apply(lambda x: f\"{x[:2]}/{x[2:4]}/{x[4:]}\")\n",
    "dados['DATA DE EMISSÃO'] = dados['DATA DE EMISSÃO'].astype(str).str.zfill(6)\n",
    "dados['DATA DE EMISSÃO'] = dados['DATA DE EMISSÃO'].apply(lambda x: f\"{x[:2]}/{x[2:4]}/{x[4:]}\")\n",
    "dados['DESCONTO ATÉ'] = dados['DESCONTO ATÉ'].astype(str).str.zfill(6)\n",
    "dados['DESCONTO ATÉ'] = dados['DESCONTO ATÉ'].apply(lambda x: f\"{x[:2]}/{x[2:4]}/{x[4:]}\")\n",
    "dados['DATA DE MORA'] = dados['DATA DE MORA'].astype(str).str.zfill(6)\n",
    "dados['DATA DE MORA'] = dados['DATA DE MORA'].apply(lambda x: f\"{x[:2]}/{x[2:4]}/{x[4:]}\")"
   ]
  },
  {
   "cell_type": "code",
   "execution_count": 14,
   "id": "b12c4ad9",
   "metadata": {},
   "outputs": [],
   "source": [
    "df_dados = dados"
   ]
  },
  {
   "cell_type": "markdown",
   "id": "e0bb1d63",
   "metadata": {},
   "source": [
    "# Cabeçario"
   ]
  },
  {
   "cell_type": "code",
   "execution_count": 15,
   "id": "3685d453",
   "metadata": {},
   "outputs": [
    {
     "name": "stdout",
     "output_type": "stream",
     "text": [
      "{'TIPO DE REGISTRO HEADER': '0', 'OPERAÇÃO HEADER': '1', 'LITERAL DE REMESSA HEADER': 'REMESSA', 'CÓDIGO DO SERVIÇO HEADER': '01', 'LITERAL DE SERVIÇO HEADER': 'COBRANCA       ', 'AGÊNCIA HEADER': '0579', 'CONTA HEADER': '01411', 'DAC HEADER': '9', 'NOME DA EMPRESA HEADER': ' CEMA PROD PARA SAUDE EIRELI   ', 'CODIGO DO BANCO HEADER': '341', 'NOME DO BANCO HEADER': 'BANCO ITAU SA  ', 'DATA DE GERAÇÃO HEADER': '191224', 'NUMERO SEQUENCIAL HEADER': '000001'}\n"
     ]
    }
   ],
   "source": [
    "\n",
    "\n",
    "# Filtrar apenas os arquivos que têm a extensão .REM\n",
    "arquivos_rem = [arquivo for arquivo in arquivos if arquivo.endswith('.REM')]\n",
    "\n",
    "# Encontre o arquivo REM mais recente com base na data de modificação\n",
    "if arquivos_rem:\n",
    "    caminho_arquivo_rem = max(arquivos_rem, key=lambda arquivo: os.path.getmtime(os.path.join(pasta, arquivo)))\n",
    "    \n",
    "    # Crie o caminho completo para o arquivo REM mais recente\n",
    "    cnab = os.path.join(pasta, caminho_arquivo_rem)\n",
    "\n",
    "# Defina o caminho para o arquivo CNAB do Santander\n",
    "arquivo_cnab =  cnab\n",
    "\n",
    "# Crie uma lista para armazenar os registros lidos\n",
    "cabecario = []\n",
    "\n",
    "with open(arquivo_cnab, 'r') as arquivo:\n",
    "    # Leia cada linha do arquivo\n",
    "    linhas = arquivo.readlines()\n",
    "\n",
    "    for linha in linhas[0:1]:    # Faça algo com cada linha do arquivo, por exemplo, imprima-a\n",
    "        campo1 = linha[0:1]\n",
    "        campo2 = linha[1:2]\n",
    "        campo3 = linha[2:9]        \n",
    "        campo4 = linha[9:11]    \n",
    "        campo5 = linha[11:26]   \n",
    "        campo6 = linha[26:30] \n",
    "        campo7 = linha[32:37] \n",
    "        campo8 = linha[37:38]  \n",
    "        campo9 = linha[45:76] \n",
    "        campo10 = linha[76:79] \n",
    "        campo11 = linha[79:94]           \n",
    "        campo12 = linha[94:100] \n",
    "        campo13 = linha[394:400] \n",
    "\n",
    "\n",
    "        registro = {\n",
    "            'TIPO DE REGISTRO HEADER': campo1,\n",
    "            'OPERAÇÃO HEADER': campo2,\n",
    "            'LITERAL DE REMESSA HEADER': campo3,\n",
    "             'CÓDIGO DO SERVIÇO HEADER': campo4,\n",
    "              'LITERAL DE SERVIÇO HEADER': campo5,\n",
    "             'AGÊNCIA HEADER': campo6,\n",
    "             'CONTA HEADER': campo7,\n",
    "             'DAC HEADER': campo8,      \n",
    "             'NOME DA EMPRESA HEADER': campo9,     \n",
    "             'CODIGO DO BANCO HEADER': campo10,            \n",
    "             'NOME DO BANCO HEADER': campo11,        \n",
    "             'DATA DE GERAÇÃO HEADER': campo12,\n",
    "            'NUMERO SEQUENCIAL HEADER': campo13,        \n",
    "\n",
    " }\n",
    "        \n",
    "        cabecario.append(registro)\n",
    "\n",
    "for registro in cabecario:\n",
    "    print(registro)"
   ]
  },
  {
   "cell_type": "code",
   "execution_count": 16,
   "id": "d6964d62",
   "metadata": {},
   "outputs": [],
   "source": [
    "df_cabecario = pd.DataFrame.from_dict(cabecario)"
   ]
  },
  {
   "cell_type": "code",
   "execution_count": 17,
   "id": "25e6386b",
   "metadata": {},
   "outputs": [],
   "source": [
    "df_resultado = pd.concat([df_dados, df_cabecario], axis=1)"
   ]
  },
  {
   "cell_type": "code",
   "execution_count": 18,
   "id": "60ec7107",
   "metadata": {},
   "outputs": [],
   "source": [
    "df_resultado.replace('None', pd.NA, inplace=True)\n",
    "\n",
    "# Preencher os valores nulos na coluna 'Código de Serviço' com os valores da linha anterior\n",
    "df_resultado['TIPO DE REGISTRO HEADER'].fillna(method='ffill', inplace=True)\n",
    "df_resultado['OPERAÇÃO HEADER'].fillna(method='ffill', inplace=True)\n",
    "df_resultado['LITERAL DE REMESSA HEADER'].fillna(method='ffill', inplace=True)\n",
    "df_resultado['CÓDIGO DO SERVIÇO HEADER'].fillna(method='ffill', inplace=True)\n",
    "df_resultado['LITERAL DE SERVIÇO HEADER'].fillna(method='ffill', inplace=True)\n",
    "df_resultado['AGÊNCIA HEADER'].fillna(method='ffill', inplace=True)\n",
    "df_resultado['CONTA HEADER'].fillna(method='ffill', inplace=True)\n",
    "df_resultado['DAC HEADER'].fillna(method='ffill', inplace=True)\n",
    "df_resultado['NOME DA EMPRESA HEADER'].fillna(method='ffill', inplace=True)\n",
    "df_resultado['CODIGO DO BANCO HEADER'].fillna(method='ffill', inplace=True)\n",
    "df_resultado['NOME DO BANCO HEADER'].fillna(method='ffill', inplace=True)\n",
    "df_resultado['DATA DE GERAÇÃO HEADER'].fillna(method='ffill', inplace=True)\n",
    "df_resultado['NUMERO SEQUENCIAL HEADER'].fillna(method='ffill', inplace=True)"
   ]
  },
  {
   "cell_type": "code",
   "execution_count": 19,
   "id": "24280ee2",
   "metadata": {},
   "outputs": [],
   "source": [
    "df_resultado = df_resultado.replace({pd.NA: None, pd.NaT: None})"
   ]
  },
  {
   "cell_type": "markdown",
   "id": "e07d2c48",
   "metadata": {},
   "source": [
    "# treiler "
   ]
  },
  {
   "cell_type": "code",
   "execution_count": 20,
   "id": "ee923831",
   "metadata": {},
   "outputs": [
    {
     "name": "stdout",
     "output_type": "stream",
     "text": [
      "{'TIPO DE REGISTRO TRAILER': '9', 'NUMERO SEQUENCIAL TRAILER': '000004'}\n"
     ]
    }
   ],
   "source": [
    "\n",
    "\n",
    "# Filtrar apenas os arquivos que têm a extensão .REM\n",
    "arquivos_rem = [arquivo for arquivo in arquivos if arquivo.endswith('.REM')]\n",
    "\n",
    "# Encontre o arquivo REM mais recente com base na data de modificação\n",
    "if arquivos_rem:\n",
    "    caminho_arquivo_rem = max(arquivos_rem, key=lambda arquivo: os.path.getmtime(os.path.join(pasta, arquivo)))\n",
    "    \n",
    "    # Crie o caminho completo para o arquivo REM mais recente\n",
    "    cnab = os.path.join(pasta, caminho_arquivo_rem)\n",
    "\n",
    "# Defina o caminho para o arquivo CNAB do Santander\n",
    "arquivo_cnab =  cnab\n",
    "\n",
    "# Crie uma lista para armazenar os registros lidos\n",
    "cabecario = []\n",
    "\n",
    "with open(arquivo_cnab, 'r') as arquivo:\n",
    "    # Leia cada linha do arquivo\n",
    "    linhas = arquivo.readlines()\n",
    "\n",
    "    for linha in linhas[-1:]:    # Faça algo com cada linha do arquivo, por exemplo, imprima-a\n",
    "        campo1 = linha[0:1]\n",
    "        campo2 = linha[1:394]\n",
    "        campo3 = linha[394:400]\n",
    "        #campo1 = linha[0:1]\n",
    "        \n",
    "\n",
    "\n",
    "        registro = {\n",
    "            'TIPO DE REGISTRO TRAILER': campo1,\n",
    "            'NUMERO SEQUENCIAL TRAILER': campo3,\n",
    "\n",
    "            \n",
    "            \n",
    "            \n",
    "            \n",
    "\n",
    " }\n",
    "        \n",
    "        cabecario.append(registro)\n",
    "\n",
    "for registro in cabecario:\n",
    "    print(registro)"
   ]
  },
  {
   "cell_type": "code",
   "execution_count": 21,
   "id": "f1b921ec",
   "metadata": {},
   "outputs": [],
   "source": [
    "trailer = pd.DataFrame.from_dict(cabecario)\n",
    "df_resultado = pd.concat([df_resultado, trailer], axis=1)\n",
    "df_resultado = df_resultado.replace({pd.NA: None, pd.NaT: None})"
   ]
  },
  {
   "cell_type": "code",
   "execution_count": 22,
   "id": "7a8305e3",
   "metadata": {},
   "outputs": [],
   "source": [
    "\n",
    "df_resultado['TIPO DE REGISTRO TRAILER'].fillna(method='ffill', inplace=True)\n",
    "df_resultado['NUMERO SEQUENCIAL TRAILER'].fillna(method='ffill', inplace=True)\n",
    "df_resultado = df_resultado.reset_index()"
   ]
  },
  {
   "cell_type": "code",
   "execution_count": 23,
   "id": "a317c71f",
   "metadata": {},
   "outputs": [],
   "source": [
    "#df_resultado"
   ]
  },
  {
   "cell_type": "code",
   "execution_count": 24,
   "id": "e2fd0f3d",
   "metadata": {},
   "outputs": [
    {
     "name": "stderr",
     "output_type": "stream",
     "text": [
      "C:\\Users\\elean\\AppData\\Local\\Temp\\ipykernel_21116\\2674237324.py:1: UserWarning: Could not infer format, so each element will be parsed individually, falling back to `dateutil`. To ensure parsing is consistent and as-expected, please specify a format.\n",
      "  df_resultado['DATA DE GERAÇÃO HEADER']= pd.to_datetime(df_resultado['DATA DE GERAÇÃO HEADER'])\n"
     ]
    }
   ],
   "source": [
    "df_resultado['DATA DE GERAÇÃO HEADER']= pd.to_datetime(df_resultado['DATA DE GERAÇÃO HEADER'])\n",
    "df_resultado['DATA DE GERAÇÃO HEADER'] = df_resultado['DATA DE GERAÇÃO HEADER'].dt.strftime('%Y-%m-%d')"
   ]
  },
  {
   "cell_type": "code",
   "execution_count": 25,
   "id": "2b435778",
   "metadata": {},
   "outputs": [],
   "source": [
    "df_resultado = df_resultado[df_resultado['CÓDIGO DE INSCRIÇÃO'] == '02']\n"
   ]
  },
  {
   "cell_type": "code",
   "execution_count": 26,
   "id": "4d8194f9",
   "metadata": {},
   "outputs": [],
   "source": [
    "df_resultado = df_resultado.drop(columns=['index'])\n"
   ]
  },
  {
   "cell_type": "code",
   "execution_count": 27,
   "id": "a2f909a8",
   "metadata": {},
   "outputs": [],
   "source": [
    "# df_resultado.to_excel(r\"C:\\Users\\elean\\Desktop\\bancodedados\\testeitau.xlsx\")\n",
    "# freia"
   ]
  },
  {
   "cell_type": "code",
   "execution_count": null,
   "id": "9235a95b",
   "metadata": {},
   "outputs": [
    {
     "name": "stdout",
     "output_type": "stream",
     "text": [
      "remessa salva no banco de dados!\n"
     ]
    }
   ],
   "source": [
    "import mysql.connector\n",
    "import pandas as pd\n",
    "\n",
    "# Seus dados de conexão\n",
    "mydb = mysql.connector.connect(\n",
    "    host=os.getenv('DB_HOST'),\n",
    "    user=os.getenv('DB_USER'),\n",
    "    password=os.getenv('DB_PASSWORD'),\n",
    "    database=os.getenv('DB_NAME'),\n",
    ")\n",
    "\n",
    "\n",
    "# Função para inserir dados na tabela\n",
    "def inserir_dados(cursor, tabela, df_resultado):\n",
    "    for index, row in df_resultado.iterrows():\n",
    "        placeholders = ', '.join(['%s'] * len(row))\n",
    "        columns = ', '.join(f\"`{col}`\" for col in row.keys())\n",
    "        sql = f\"INSERT INTO {tabela} ({columns}) VALUES ({placeholders})\"\n",
    "        cursor.execute(sql, tuple(row))\n",
    "\n",
    "# Cria um cursor para executar consultas\n",
    "cursor = mydb.cursor()\n",
    "\n",
    "# Nome da tabela no banco de dados\n",
    "nome_tabela = 'remessa_itau'\n",
    "\n",
    "# Insere os dados na tabela\n",
    "inserir_dados(cursor, nome_tabela, df_resultado)\n",
    "\n",
    "# Commit para salvar as alterações\n",
    "mydb.commit()\n",
    "\n",
    "# Fecha o cursor e a conexão\n",
    "cursor.close()\n",
    "mydb.close()\n",
    "\n",
    "print(\"remessa salva no banco de dados!\")"
   ]
  },
  {
   "cell_type": "code",
   "execution_count": 29,
   "id": "5186a969",
   "metadata": {},
   "outputs": [
    {
     "name": "stdout",
     "output_type": "stream",
     "text": [
      "O arquivo foi movido para C:/Users/elean/Desktop/BANCOS/itau/lido/\n"
     ]
    }
   ],
   "source": [
    "import shutil\n",
    "# Pasta de destino\n",
    "pasta_destino = 'C:/Users/elean/Desktop/BANCOS/itau/lido/'\n",
    "\n",
    "# Movendo o arquivo\n",
    "shutil.move(arquivo_cnab, pasta_destino)\n",
    "print(f'O arquivo foi movido para {pasta_destino}')\n"
   ]
  },
  {
   "cell_type": "code",
   "execution_count": null,
   "id": "6445f6b0",
   "metadata": {},
   "outputs": [],
   "source": []
  },
  {
   "cell_type": "code",
   "execution_count": null,
   "id": "468929c6",
   "metadata": {},
   "outputs": [],
   "source": []
  },
  {
   "cell_type": "code",
   "execution_count": null,
   "id": "5221b4f3",
   "metadata": {},
   "outputs": [],
   "source": []
  },
  {
   "cell_type": "code",
   "execution_count": null,
   "id": "c2f1038b",
   "metadata": {},
   "outputs": [],
   "source": []
  },
  {
   "cell_type": "code",
   "execution_count": null,
   "id": "092087f9",
   "metadata": {},
   "outputs": [],
   "source": []
  },
  {
   "cell_type": "code",
   "execution_count": null,
   "id": "d0b5d5ad",
   "metadata": {},
   "outputs": [],
   "source": []
  },
  {
   "cell_type": "code",
   "execution_count": 30,
   "id": "a34ba143",
   "metadata": {},
   "outputs": [],
   "source": [
    "# https://download.itau.com.br/bankline/layout_cobranca_400bytes_cnab_itau.pdf"
   ]
  },
  {
   "cell_type": "code",
   "execution_count": null,
   "id": "3681b10e",
   "metadata": {},
   "outputs": [],
   "source": []
  }
 ],
 "metadata": {
  "kernelspec": {
   "display_name": "Python 3 (ipykernel)",
   "language": "python",
   "name": "python3"
  },
  "language_info": {
   "codemirror_mode": {
    "name": "ipython",
    "version": 3
   },
   "file_extension": ".py",
   "mimetype": "text/x-python",
   "name": "python",
   "nbconvert_exporter": "python",
   "pygments_lexer": "ipython3",
   "version": "3.11.5"
  }
 },
 "nbformat": 4,
 "nbformat_minor": 5
}
